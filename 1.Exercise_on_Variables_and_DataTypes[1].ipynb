{
 "cells": [
  {
   "cell_type": "markdown",
   "metadata": {
    "id": "PlwAT_vD7HcW"
   },
   "source": [
    "# Assignment on Variables and DataTypes"
   ]
  },
  {
   "cell_type": "markdown",
   "metadata": {
    "id": "Jv_SuJim7Hcd"
   },
   "source": [
    "## Basics of Python"
   ]
  },
  {
   "cell_type": "markdown",
   "metadata": {
    "id": "yV1WWoRb7Hce"
   },
   "source": [
    "## Question:\n",
    "\n",
    "Print your name using the `print()` function.\n"
   ]
  },
  {
   "cell_type": "code",
   "execution_count": 5,
   "metadata": {
    "id": "YX9sSIk27Hcf"
   },
   "outputs": [
    {
     "name": "stdout",
     "output_type": "stream",
     "text": [
      "Vicky_Kumar\n"
     ]
    }
   ],
   "source": [
    "#Write your code her\n",
    "print(\"Vicky_Kumar\")"
   ]
  },
  {
   "cell_type": "markdown",
   "metadata": {
    "id": "q5Vw_QHy7Hci"
   },
   "source": [
    "### What is a Variable? \n",
    "\n",
    "Write a few words about variables and provide an example by creating a variable.\n"
   ]
  },
  {
   "cell_type": "code",
   "execution_count": null,
   "metadata": {},
   "outputs": [],
   "source": [
    "#Answer-Variable is container or storage which store your data which are in the form of strings,numbers,data types etc."
   ]
  },
  {
   "cell_type": "code",
   "execution_count": 7,
   "metadata": {},
   "outputs": [
    {
     "name": "stdout",
     "output_type": "stream",
     "text": [
      "vicky kumar\n"
     ]
    }
   ],
   "source": [
    "#As mentioned create a variable and print it\n",
    "name=\"vicky kumar\"\n",
    "print(name)"
   ]
  },
  {
   "cell_type": "markdown",
   "metadata": {
    "id": "M_56LBqz8Mja"
   },
   "source": [
    "## Question\n",
    "\n",
    "Given the following variable assignments:\n",
    "\n",
    "```python\n",
    "length = 17\n",
    "breadth = 12.0\n",
    "symbol = '*'\n",
    "```\n",
    "\n",
    "\n",
    "Evaluate the result and the data type for each of the expressions below:\n",
    "\n",
    "    1. length // 2\n",
    "    2. length / 2.0\n",
    "    3. breadth / 4\n",
    "    4. 2 + 3 * 4\n",
    "    5. symbol * 3"
   ]
  },
  {
   "cell_type": "code",
   "execution_count": 8,
   "metadata": {
    "id": "4g9DBj6A7Hcl"
   },
   "outputs": [],
   "source": [
    "#Write your code here\n",
    "length = 17\n",
    "breadth = 12.0\n",
    "symbol = '*'"
   ]
  },
  {
   "cell_type": "markdown",
   "metadata": {
    "id": "txDLiNdL7Hcq"
   },
   "source": [
    "### Question:\n",
    "\n",
    "Write a program to add two numbers. Use the variable names `first` and `second` for the numbers.\n"
   ]
  },
  {
   "cell_type": "code",
   "execution_count": 18,
   "metadata": {
    "id": "GzB9epzh9p9m"
   },
   "outputs": [
    {
     "name": "stdout",
     "output_type": "stream",
     "text": [
      "1.length//2 = 8 ,Type: <class 'int'>\n",
      "2.length/2.0 = 8.5 ,Type: <class 'float'>\n",
      "3.breadth/4 = 3.0 ,Type: <class 'float'>\n",
      "4.2+3*4= 14 ,Type: <class 'int'>\n",
      "5.symbol*3= *** ,Type: <class 'str'>\n"
     ]
    }
   ],
   "source": [
    "#Write your code here\n",
    "print(\"1.length//2 =\",length//2,\",Type:\",type(length//2))\n",
    "print(\"2.length/2.0 =\",length/2.0,\",Type:\",type(length/2.0))\n",
    "print(\"3.breadth/4 =\",breadth/4,\",Type:\",type(breadth/4))\n",
    "print(\"4.2+3*4=\",2+3*4,\",Type:\",type(2+3*4))\n",
    "print(\"5.symbol*3=\",symbol*3,\",Type:\",type(symbol*3))"
   ]
  },
  {
   "cell_type": "markdown",
   "metadata": {
    "id": "Jp-dzURp7Hct"
   },
   "source": [
    "### Question:\n",
    "\n",
    "Write a program to concatenate your first name and second name. \n",
    "\n",
    "- You should use two separate variables: one for your first name and one for your second name.\n",
    "- Concatenate these two names into a full name and display the result.\n",
    "\n",
    "Use appropriate variable names for the first name and second name (e.g., `first_name` and `second_name`).\n"
   ]
  },
  {
   "cell_type": "code",
   "execution_count": 19,
   "metadata": {
    "id": "oOanQTsU9s1b"
   },
   "outputs": [
    {
     "name": "stdout",
     "output_type": "stream",
     "text": [
      "vicky kumar\n"
     ]
    }
   ],
   "source": [
    "#Write your code here\n",
    "first_name=\"vicky\"\n",
    "last_name=\"kumar\"\n",
    "full_name=first_name+\" \"+last_name\n",
    "print(full_name)"
   ]
  },
  {
   "cell_type": "markdown",
   "metadata": {
    "id": "UehJFzOF7Hcu"
   },
   "source": [
    "### Question:\n",
    "\n",
    "Print the data types of the following values:\n",
    "\n",
    "- `20`\n",
    "- `'30'`\n",
    "- `True`\n",
    "- `50.5`\n",
    "\n",
    "Your task is to print the data type of each value using the `type()` function in Python.\n"
   ]
  },
  {
   "cell_type": "code",
   "execution_count": 23,
   "metadata": {
    "id": "7z6vUnHz7Hcu"
   },
   "outputs": [
    {
     "name": "stdout",
     "output_type": "stream",
     "text": [
      "<class 'int'>\n",
      "<class 'str'>\n",
      "<class 'bool'>\n",
      "<class 'float'>\n"
     ]
    }
   ],
   "source": [
    "#Write your code here\n",
    "a=20\n",
    "b='30'\n",
    "c=True\n",
    "d=50.5\n",
    "print(type(a))\n",
    "print(type(b))\n",
    "print(type(c))\n",
    "print(type(d))"
   ]
  },
  {
   "cell_type": "markdown",
   "metadata": {
    "id": "0tdftRfq7Hcv"
   },
   "source": [
    "### Question:\n",
    "\n",
    "Given the following variables:\n",
    "\n",
    "```python\n",
    "num_int = 123\n",
    "num_str = \"456\"\n",
    "\n",
    "Your task is to add num_int and num_str.\n",
    "\n",
    "Hint: You need to first convert num_str into an integer before performing the addition.\n"
   ]
  },
  {
   "cell_type": "code",
   "execution_count": 28,
   "metadata": {
    "id": "6vsxVsJv7Hcw"
   },
   "outputs": [
    {
     "name": "stdout",
     "output_type": "stream",
     "text": [
      "The sum is:- 579\n"
     ]
    }
   ],
   "source": [
    "#Write your code here\n",
    "num_int=123\n",
    "num_str=\"456\"\n",
    "num_str=int(num_str)\n",
    "print(\"The sum is:-\",num_int+num_str)"
   ]
  },
  {
   "cell_type": "code",
   "execution_count": null,
   "metadata": {},
   "outputs": [],
   "source": []
  }
 ],
 "metadata": {
  "colab": {
   "provenance": []
  },
  "kernelspec": {
   "display_name": "Python 3 (ipykernel)",
   "language": "python",
   "name": "python3"
  },
  "language_info": {
   "codemirror_mode": {
    "name": "ipython",
    "version": 3
   },
   "file_extension": ".py",
   "mimetype": "text/x-python",
   "name": "python",
   "nbconvert_exporter": "python",
   "pygments_lexer": "ipython3",
   "version": "3.13.5"
  }
 },
 "nbformat": 4,
 "nbformat_minor": 4
}
