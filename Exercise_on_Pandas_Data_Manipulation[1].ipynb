{
 "cells": [
  {
   "cell_type": "markdown",
   "metadata": {
    "id": "tMksho4SKSD8"
   },
   "source": [
    "# Pandas Data Manipulation Exercise\n",
    "\n",
    "## Objective\n",
    "\n",
    "This Exercise will help you gain hands-on experience with key Pandas operations, including data creation, exploration, filtering, slicing, merging, concatenating, and grouping data. Each task aims to build foundational skills in manipulating data using Pandas.\n",
    "\n",
    "## Instructions\n",
    "\n",
    "Complete each task sequentially, answering all questions.\n",
    "Add comments to explain your code where necessary.\n",
    "Submit your work as a Jupyter Notebook (.ipynb) or a Python script (.py)."
   ]
  },
  {
   "cell_type": "code",
   "execution_count": 255,
   "metadata": {
    "id": "kjUDDt_rrl8l"
   },
   "outputs": [],
   "source": [
    "import pandas as pd"
   ]
  },
  {
   "cell_type": "markdown",
   "metadata": {
    "id": "QTg-SkpQs7hi"
   },
   "source": [
    "## Dataset Setup\n",
    "#### **Create a DataFrame df_sales using the following data:** ####\n",
    "                \n",
    "| Order_ID | Product     | Category    | Quantity | Price | Store_Location |\n",
    "|----------|-------------|-------------|----------|-------|----------------|\n",
    "| 1        | Laptop      | Electronics | 3        | 800   | New York       |\n",
    "| 2        | Headphones  | Electronics | 5        | 150   | San Francisco  |\n",
    "| 3        | Chair       | Furniture   | 10       | 85    | New York       |\n",
    "| 4        | Desk        | Furniture   | 2        | 200   | Chicago        |\n",
    "| 5        | Monitor     | Electronics | 4        | 300   | San Francisco  |\n",
    "| 6        | Lamp        | Furniture   | 7        | 40    | New York       |\n",
    "| 7        | Smartphone  | Electronics | 6        | 600   | Chicago        |\n",
    "| 8        | Sofa        | Furniture   | 1        | 500   | San Francisco  |\n"
   ]
  },
  {
   "cell_type": "code",
   "execution_count": 256,
   "metadata": {
    "id": "jOxtmmx21tR0"
   },
   "outputs": [
    {
     "data": {
      "text/html": [
       "<div>\n",
       "<style scoped>\n",
       "    .dataframe tbody tr th:only-of-type {\n",
       "        vertical-align: middle;\n",
       "    }\n",
       "\n",
       "    .dataframe tbody tr th {\n",
       "        vertical-align: top;\n",
       "    }\n",
       "\n",
       "    .dataframe thead th {\n",
       "        text-align: right;\n",
       "    }\n",
       "</style>\n",
       "<table border=\"1\" class=\"dataframe\">\n",
       "  <thead>\n",
       "    <tr style=\"text-align: right;\">\n",
       "      <th></th>\n",
       "      <th>Order_ID</th>\n",
       "      <th>Product</th>\n",
       "      <th>Category</th>\n",
       "      <th>Quantity</th>\n",
       "      <th>Price</th>\n",
       "      <th>Store_Location</th>\n",
       "    </tr>\n",
       "  </thead>\n",
       "  <tbody>\n",
       "    <tr>\n",
       "      <th>0</th>\n",
       "      <td>1</td>\n",
       "      <td>Laptop</td>\n",
       "      <td>Electronics</td>\n",
       "      <td>3</td>\n",
       "      <td>800</td>\n",
       "      <td>New York</td>\n",
       "    </tr>\n",
       "    <tr>\n",
       "      <th>1</th>\n",
       "      <td>2</td>\n",
       "      <td>Headphones</td>\n",
       "      <td>Electronics</td>\n",
       "      <td>5</td>\n",
       "      <td>150</td>\n",
       "      <td>San Francisco</td>\n",
       "    </tr>\n",
       "    <tr>\n",
       "      <th>2</th>\n",
       "      <td>3</td>\n",
       "      <td>Chair</td>\n",
       "      <td>Furniture</td>\n",
       "      <td>10</td>\n",
       "      <td>85</td>\n",
       "      <td>New York</td>\n",
       "    </tr>\n",
       "    <tr>\n",
       "      <th>3</th>\n",
       "      <td>4</td>\n",
       "      <td>Desk</td>\n",
       "      <td>Furniture</td>\n",
       "      <td>2</td>\n",
       "      <td>200</td>\n",
       "      <td>Chicago</td>\n",
       "    </tr>\n",
       "    <tr>\n",
       "      <th>4</th>\n",
       "      <td>5</td>\n",
       "      <td>Monitor</td>\n",
       "      <td>Electronics</td>\n",
       "      <td>4</td>\n",
       "      <td>300</td>\n",
       "      <td>san Francisco</td>\n",
       "    </tr>\n",
       "    <tr>\n",
       "      <th>5</th>\n",
       "      <td>6</td>\n",
       "      <td>Lamp</td>\n",
       "      <td>Furniture</td>\n",
       "      <td>7</td>\n",
       "      <td>40</td>\n",
       "      <td>New York</td>\n",
       "    </tr>\n",
       "    <tr>\n",
       "      <th>6</th>\n",
       "      <td>7</td>\n",
       "      <td>Smartphone</td>\n",
       "      <td>Electronics</td>\n",
       "      <td>6</td>\n",
       "      <td>600</td>\n",
       "      <td>Chicago</td>\n",
       "    </tr>\n",
       "    <tr>\n",
       "      <th>7</th>\n",
       "      <td>8</td>\n",
       "      <td>Sofa</td>\n",
       "      <td>Furniture</td>\n",
       "      <td>1</td>\n",
       "      <td>500</td>\n",
       "      <td>San Francisco</td>\n",
       "    </tr>\n",
       "  </tbody>\n",
       "</table>\n",
       "</div>"
      ],
      "text/plain": [
       "   Order_ID     Product     Category  Quantity  Price Store_Location\n",
       "0         1      Laptop  Electronics         3    800       New York\n",
       "1         2  Headphones  Electronics         5    150  San Francisco\n",
       "2         3       Chair    Furniture        10     85       New York\n",
       "3         4        Desk    Furniture         2    200        Chicago\n",
       "4         5     Monitor  Electronics         4    300  san Francisco\n",
       "5         6        Lamp    Furniture         7     40       New York\n",
       "6         7  Smartphone  Electronics         6    600        Chicago\n",
       "7         8        Sofa    Furniture         1    500  San Francisco"
      ]
     },
     "execution_count": 256,
     "metadata": {},
     "output_type": "execute_result"
    }
   ],
   "source": [
    "# Create a DataFrame using pandas library\n",
    "\n",
    "# CODE HERE\n",
    "df={'Order_ID':[1,2,3,4,5,6,7,8],\n",
    "    'Product':['Laptop','Headphones','Chair','Desk','Monitor','Lamp','Smartphone','Sofa'],\n",
    "    'Category':['Electronics','Electronics','Furniture','Furniture','Electronics','Furniture','Electronics','Furniture'],\n",
    "    'Quantity':[3,5,10,2,4,7,6,1],\n",
    "    'Price':[800,150,85,200,300,40,600,500],\n",
    "    'Store_Location':['New York','San Francisco','New York','Chicago','san Francisco','New York','Chicago','San Francisco']\n",
    "   }\n",
    "\n",
    "df_sales=pd.DataFrame(df)\n",
    "df_sales"
   ]
  },
  {
   "cell_type": "markdown",
   "metadata": {
    "id": "kVGl_RussQLq"
   },
   "source": [
    "## Tasks and Questions\n",
    "\n",
    "#### Task 1: Basic DataFrame Information"
   ]
  },
  {
   "cell_type": "markdown",
   "metadata": {
    "id": "XXANAbiksW22"
   },
   "source": [
    "1.Display the first 5 rows and last 5 rows of df_sales using .head() and .tail().\n",
    "\n",
    "**Question:** What are the products listed in the first and last rows?"
   ]
  },
  {
   "cell_type": "code",
   "execution_count": 257,
   "metadata": {
    "id": "KSb_KhiwsP4Q"
   },
   "outputs": [
    {
     "data": {
      "text/html": [
       "<div>\n",
       "<style scoped>\n",
       "    .dataframe tbody tr th:only-of-type {\n",
       "        vertical-align: middle;\n",
       "    }\n",
       "\n",
       "    .dataframe tbody tr th {\n",
       "        vertical-align: top;\n",
       "    }\n",
       "\n",
       "    .dataframe thead th {\n",
       "        text-align: right;\n",
       "    }\n",
       "</style>\n",
       "<table border=\"1\" class=\"dataframe\">\n",
       "  <thead>\n",
       "    <tr style=\"text-align: right;\">\n",
       "      <th></th>\n",
       "      <th>Order_ID</th>\n",
       "      <th>Product</th>\n",
       "      <th>Category</th>\n",
       "      <th>Quantity</th>\n",
       "      <th>Price</th>\n",
       "      <th>Store_Location</th>\n",
       "    </tr>\n",
       "  </thead>\n",
       "  <tbody>\n",
       "    <tr>\n",
       "      <th>0</th>\n",
       "      <td>1</td>\n",
       "      <td>Laptop</td>\n",
       "      <td>Electronics</td>\n",
       "      <td>3</td>\n",
       "      <td>800</td>\n",
       "      <td>New York</td>\n",
       "    </tr>\n",
       "    <tr>\n",
       "      <th>1</th>\n",
       "      <td>2</td>\n",
       "      <td>Headphones</td>\n",
       "      <td>Electronics</td>\n",
       "      <td>5</td>\n",
       "      <td>150</td>\n",
       "      <td>San Francisco</td>\n",
       "    </tr>\n",
       "    <tr>\n",
       "      <th>2</th>\n",
       "      <td>3</td>\n",
       "      <td>Chair</td>\n",
       "      <td>Furniture</td>\n",
       "      <td>10</td>\n",
       "      <td>85</td>\n",
       "      <td>New York</td>\n",
       "    </tr>\n",
       "    <tr>\n",
       "      <th>3</th>\n",
       "      <td>4</td>\n",
       "      <td>Desk</td>\n",
       "      <td>Furniture</td>\n",
       "      <td>2</td>\n",
       "      <td>200</td>\n",
       "      <td>Chicago</td>\n",
       "    </tr>\n",
       "    <tr>\n",
       "      <th>4</th>\n",
       "      <td>5</td>\n",
       "      <td>Monitor</td>\n",
       "      <td>Electronics</td>\n",
       "      <td>4</td>\n",
       "      <td>300</td>\n",
       "      <td>san Francisco</td>\n",
       "    </tr>\n",
       "  </tbody>\n",
       "</table>\n",
       "</div>"
      ],
      "text/plain": [
       "   Order_ID     Product     Category  Quantity  Price Store_Location\n",
       "0         1      Laptop  Electronics         3    800       New York\n",
       "1         2  Headphones  Electronics         5    150  San Francisco\n",
       "2         3       Chair    Furniture        10     85       New York\n",
       "3         4        Desk    Furniture         2    200        Chicago\n",
       "4         5     Monitor  Electronics         4    300  san Francisco"
      ]
     },
     "execution_count": 257,
     "metadata": {},
     "output_type": "execute_result"
    }
   ],
   "source": [
    "# CODE HERE\n",
    "\n",
    "#df_sales.tail(5)\n",
    "df_sales.head(5)"
   ]
  },
  {
   "cell_type": "markdown",
   "metadata": {
    "id": "q-Zubs43ufiZ"
   },
   "source": [
    "### **Data Structure**\n",
    "\n",
    "Use .size, .shape, and .ndim to find the total number of elements, the number of rows and columns, and the dimensions of df_sales.\n",
    "\n",
    "**Question:** How many rows and columns are in df_sales?\n",
    "\n"
   ]
  },
  {
   "cell_type": "code",
   "execution_count": 258,
   "metadata": {
    "id": "TYUm-RjpufBH"
   },
   "outputs": [
    {
     "name": "stdout",
     "output_type": "stream",
     "text": [
      "The size of df_sales:  48\n",
      "The shape of df_sales:  (8, 6)\n",
      "The dimension of df_sales:  2\n"
     ]
    }
   ],
   "source": [
    "# CODE HERE\n",
    "print('The size of df_sales: ',df_sales.size)\n",
    "print('The shape of df_sales: ',df_sales.shape)\n",
    "print('The dimension of df_sales: ',df_sales.ndim)"
   ]
  },
  {
   "cell_type": "markdown",
   "metadata": {
    "id": "9f07QnyjunwB"
   },
   "source": [
    "#### Column Information\n",
    "Use .columns and .dtypes to check the column names and data types.\n",
    "\n",
    "**Question:** Which columns contain numeric data?"
   ]
  },
  {
   "cell_type": "code",
   "execution_count": 259,
   "metadata": {
    "id": "AltPMYJmusfh"
   },
   "outputs": [
    {
     "data": {
      "text/plain": [
       "Order_ID           int64\n",
       "Product           object\n",
       "Category          object\n",
       "Quantity           int64\n",
       "Price              int64\n",
       "Store_Location    object\n",
       "dtype: object"
      ]
     },
     "execution_count": 259,
     "metadata": {},
     "output_type": "execute_result"
    }
   ],
   "source": [
    "# CODE HERE\n",
    "data_types = df_sales.dtypes\n",
    "data_types\n"
   ]
  },
  {
   "cell_type": "markdown",
   "metadata": {
    "id": "ItgVpVXS2cQL"
   },
   "source": [
    "## Task 2: Descriptive Statistics\n",
    "#### Summary Statistics\n",
    "\n",
    "Use .describe() to view summary statistics for numeric columns.\n",
    "**Question:** What is the average quantity sold? What is the maximum price?\n"
   ]
  },
  {
   "cell_type": "code",
   "execution_count": 260,
   "metadata": {
    "id": "IGhrr17AwkmL"
   },
   "outputs": [],
   "source": [
    "# CODE HERE"
   ]
  },
  {
   "cell_type": "code",
   "execution_count": 261,
   "metadata": {
    "id": "MFMjH2nH3WkE"
   },
   "outputs": [
    {
     "data": {
      "text/plain": [
       "4.75"
      ]
     },
     "execution_count": 261,
     "metadata": {},
     "output_type": "execute_result"
    }
   ],
   "source": [
    "avg_quantity_sold=sum(df_sales['Quantity'])/len(df_sales['Order_ID'])\n",
    "avg_quantity_sold"
   ]
  },
  {
   "cell_type": "code",
   "execution_count": 262,
   "metadata": {
    "id": "kM05y-h43WII"
   },
   "outputs": [
    {
     "data": {
      "text/plain": [
       "800"
      ]
     },
     "execution_count": 262,
     "metadata": {},
     "output_type": "execute_result"
    }
   ],
   "source": [
    "max_price=max(df_sales['Price'])\n",
    "max_price"
   ]
  },
  {
   "cell_type": "markdown",
   "metadata": {
    "id": "Os9yrPg73XEu"
   },
   "source": [
    "\n",
    "#### Missing Values\n",
    "\n",
    "Use .info() to get a concise summary of df_sales.\n",
    "Question: Are there any missing values?\n"
   ]
  },
  {
   "cell_type": "code",
   "execution_count": 263,
   "metadata": {
    "id": "iYnGRoPY3Yvd"
   },
   "outputs": [
    {
     "name": "stdout",
     "output_type": "stream",
     "text": [
      "<class 'pandas.core.frame.DataFrame'>\n",
      "RangeIndex: 8 entries, 0 to 7\n",
      "Data columns (total 6 columns):\n",
      " #   Column          Non-Null Count  Dtype \n",
      "---  ------          --------------  ----- \n",
      " 0   Order_ID        8 non-null      int64 \n",
      " 1   Product         8 non-null      object\n",
      " 2   Category        8 non-null      object\n",
      " 3   Quantity        8 non-null      int64 \n",
      " 4   Price           8 non-null      int64 \n",
      " 5   Store_Location  8 non-null      object\n",
      "dtypes: int64(3), object(3)\n",
      "memory usage: 516.0+ bytes\n"
     ]
    }
   ],
   "source": [
    "# CODE HERE\n",
    "df_sales.info()"
   ]
  },
  {
   "cell_type": "markdown",
   "metadata": {
    "id": "rVwyjs7v3Z3x"
   },
   "source": [
    "#### Min and Max Price\n",
    "Find the minimum, maximum, average values of the Price column.\n",
    "\n",
    "Question: What is the lowest price and which product has it?"
   ]
  },
  {
   "cell_type": "code",
   "execution_count": 264,
   "metadata": {
    "id": "yF1lgR2N3aQf"
   },
   "outputs": [],
   "source": [
    "# CODE HERE"
   ]
  },
  {
   "cell_type": "code",
   "execution_count": 265,
   "metadata": {
    "id": "8EZ12LE139_s"
   },
   "outputs": [
    {
     "name": "stdout",
     "output_type": "stream",
     "text": [
      "max_price:  40\n",
      "max_price:  800\n",
      "avg_price:  334.375\n",
      "Product with the lowest price: Lamp\n"
     ]
    }
   ],
   "source": [
    "min_price=min(df_sales['Price'])\n",
    "max_price=max(df_sales['Price'])\n",
    "avg_price=sum(df_sales['Price'])/len(df_sales['Price'])\n",
    "\n",
    "product_with_min_price = df_sales[df_sales[\"Price\"] == min_price][\"Product\"].iloc[0]\n",
    "\n",
    "print('max_price: ',min_price)\n",
    "print('max_price: ',max_price)\n",
    "print('avg_price: ',avg_price)\n",
    "print(\"Product with the lowest price:\", product_with_min_price)"
   ]
  },
  {
   "cell_type": "markdown",
   "metadata": {
    "id": "o3KAO0HA4dOY"
   },
   "source": [
    "## Task 3: Filtering and Slicing\n",
    "\n",
    "#### **Filter by Category**\n",
    "\n",
    "Filter rows where Category is \"Electronics\".\n",
    "\n",
    "**Question:** How many electronic products are in the dataset?\n"
   ]
  },
  {
   "cell_type": "code",
   "execution_count": 266,
   "metadata": {
    "id": "m2ZugZ5-4SD-"
   },
   "outputs": [],
   "source": [
    "# CODE HERE"
   ]
  },
  {
   "cell_type": "code",
   "execution_count": 267,
   "metadata": {
    "id": "WLF3EWPm4R4j"
   },
   "outputs": [
    {
     "name": "stdout",
     "output_type": "stream",
     "text": [
      "   Order_ID     Product     Category  Quantity  Price Store_Location\n",
      "0         1      Laptop  Electronics         3    800       New York\n",
      "1         2  Headphones  Electronics         5    150  San Francisco\n",
      "4         5     Monitor  Electronics         4    300  san Francisco\n",
      "6         7  Smartphone  Electronics         6    600        Chicago\n",
      "Count of electroic product in dataset:  4\n"
     ]
    }
   ],
   "source": [
    "category_el=df_sales[df_sales['Category']=='Electronics']\n",
    "print(category_el)\n",
    "\n",
    "count_electronics=category_el.shape[0]\n",
    "\n",
    "print('Count of electroic product in dataset: ',count_electronics)\n"
   ]
  },
  {
   "cell_type": "markdown",
   "metadata": {
    "id": "jaFVT-T44uQI"
   },
   "source": [
    "#### Filter by Price\n",
    "\n",
    "Filter rows where Price is above 300.\n",
    "\n",
    "**Question:** What products have a price greater than 300?"
   ]
  },
  {
   "cell_type": "code",
   "execution_count": 268,
   "metadata": {
    "id": "Xxj1bUWX4t30"
   },
   "outputs": [
    {
     "name": "stdout",
     "output_type": "stream",
     "text": [
      "Product above 300 price:\n",
      "  ['Laptop' 'Smartphone' 'Sofa']\n"
     ]
    }
   ],
   "source": [
    "# CODE HERE\n",
    "above_300=df_sales[df_sales['Price']>300]\n",
    "product=above_300['Product']\n",
    "\n",
    "print('Product above 300 price:\\n ',product.unique())"
   ]
  },
  {
   "cell_type": "markdown",
   "metadata": {
    "id": "Q-Qeginr4g9y"
   },
   "source": [
    "\n",
    "#### Filter by Location\n",
    "Filter rows for orders from \"New York\".\n",
    "\n",
    "**Question:** How many orders were made from \"New York\"?\n"
   ]
  },
  {
   "cell_type": "code",
   "execution_count": 269,
   "metadata": {
    "id": "QER1JDT94KL8"
   },
   "outputs": [
    {
     "name": "stdout",
     "output_type": "stream",
     "text": [
      "The numbers of product order in New York:  3\n"
     ]
    }
   ],
   "source": [
    "# CODE HERE\n",
    "order=df_sales[df_sales['Store_Location']=='New York']\n",
    "\n",
    "count=len(order)\n",
    "print('The numbers of product order in New York: ',count)"
   ]
  },
  {
   "cell_type": "markdown",
   "metadata": {
    "id": "VmXk6hds6zlu"
   },
   "source": [
    "## Indexing and Slicing\n",
    "\n",
    "Select only the Product and Quantity columns for the first 5 rows.\n",
    "\n",
    "**Question:** What are the names and quantities of the first five products?\n"
   ]
  },
  {
   "cell_type": "code",
   "execution_count": 270,
   "metadata": {
    "id": "BKTBM-2I67ve"
   },
   "outputs": [
    {
     "name": "stdout",
     "output_type": "stream",
     "text": [
      "The names and quantity of first five products: \n",
      "       Product  Quantity\n",
      "0      Laptop         3\n",
      "1  Headphones         5\n",
      "2       Chair        10\n",
      "3        Desk         2\n",
      "4     Monitor         4\n"
     ]
    }
   ],
   "source": [
    "# CODE HERE\n",
    "pd_qt=df_sales.loc[:4,['Product','Quantity']]\n",
    "print('The names and quantity of first five products: \\n',pd_qt)"
   ]
  },
  {
   "cell_type": "markdown",
   "metadata": {
    "id": "jso3micS6-Lk"
   },
   "source": [
    "## Advanced Filtering\n",
    "Select rows where Category is \"Furniture\" and Quantity is more than 5.\n",
    "\n",
    "**Question:** How many furniture items have quantities greater than 5?\n"
   ]
  },
  {
   "cell_type": "code",
   "execution_count": 271,
   "metadata": {
    "id": "bAGOCyqV6-nU"
   },
   "outputs": [],
   "source": [
    "# CODE HERE"
   ]
  },
  {
   "cell_type": "code",
   "execution_count": 272,
   "metadata": {
    "id": "hezw-OGP8hNJ"
   },
   "outputs": [
    {
     "name": "stdout",
     "output_type": "stream",
     "text": [
      "Furniture items with quantities greater than 5:\n",
      "    Order_ID Product   Category  Quantity  Price Store_Location\n",
      "2         3   Chair  Furniture        10     85       New York\n",
      "5         6    Lamp  Furniture         7     40       New York\n"
     ]
    }
   ],
   "source": [
    "furniture_more_than5=df_sales[(df_sales['Category']=='Furniture') & (df_sales['Quantity']>5)]\n",
    "\n",
    "print(\"Furniture items with quantities greater than 5:\\n\",furniture_more_than5)"
   ]
  },
  {
   "cell_type": "markdown",
   "metadata": {
    "id": "4awUJBjTGZXY"
   },
   "source": [
    "## Task 4: Adding and Modifying Columns\n",
    "\n",
    "#### Add Total Price Column\n",
    "\n",
    "Add a new column called Total_Price, calculated as Quantity * Price.\n",
    "\n",
    "**Question:** What is the total price for each product?\n",
    "\n"
   ]
  },
  {
   "cell_type": "code",
   "execution_count": 273,
   "metadata": {
    "id": "P5dtlE_RG3r4"
   },
   "outputs": [],
   "source": [
    "# CODE HERE"
   ]
  },
  {
   "cell_type": "code",
   "execution_count": 274,
   "metadata": {
    "id": "wxthK7KOGzPA",
    "scrolled": true
   },
   "outputs": [],
   "source": [
    "df_sales['Total_price']=df_sales['Quantity']*df_sales['Price']"
   ]
  },
  {
   "cell_type": "code",
   "execution_count": 275,
   "metadata": {},
   "outputs": [
    {
     "name": "stdout",
     "output_type": "stream",
     "text": [
      "      Product  Total_price\n",
      "0      Laptop         2400\n",
      "1  Headphones          750\n",
      "2       Chair          850\n",
      "3        Desk          400\n",
      "4     Monitor         1200\n",
      "5        Lamp          280\n",
      "6  Smartphone         3600\n",
      "7        Sofa          500\n"
     ]
    }
   ],
   "source": [
    "print(df_sales[['Product','Total_price']])"
   ]
  },
  {
   "cell_type": "markdown",
   "metadata": {
    "id": "fFNmqdI4Gz3e"
   },
   "source": [
    "#### Add Price Category\n",
    "\n",
    "\n",
    "Add a new column called Price_Category, labeling products as \"High\" if Price > 300 and \"Low\" otherwise.\n",
    "\n",
    "**Question:** How many products fall into each price category?"
   ]
  },
  {
   "cell_type": "code",
   "execution_count": 276,
   "metadata": {
    "id": "kANNU6alIHBy"
   },
   "outputs": [],
   "source": [
    "# CODE HERE"
   ]
  },
  {
   "cell_type": "code",
   "execution_count": 277,
   "metadata": {
    "id": "BxdzuVQuJAap"
   },
   "outputs": [],
   "source": [
    "df_sales['Price_category']=['High'if Price>300 else 'Low' for Price in df_sales['Price']]"
   ]
  },
  {
   "cell_type": "code",
   "execution_count": 278,
   "metadata": {},
   "outputs": [
    {
     "name": "stdout",
     "output_type": "stream",
     "text": [
      "Products fall in more price than 300:        Category Price_category\n",
      "0  Electronics           High\n",
      "1  Electronics            Low\n",
      "2    Furniture            Low\n",
      "3    Furniture            Low\n",
      "4  Electronics            Low\n",
      "5    Furniture            Low\n",
      "6  Electronics           High\n",
      "7    Furniture           High\n"
     ]
    }
   ],
   "source": [
    "print('Products fall in more price than 300: ',df_sales[['Category','Price_category']])"
   ]
  },
  {
   "cell_type": "markdown",
   "metadata": {
    "id": "neqHiU1xrmtD"
   },
   "source": [
    "\n",
    "\n",
    "\n",
    "\n",
    "\n",
    "Task 5: Merging and Concatenation\n",
    "Create a DataFrame df_discounts with the following data:\n",
    "\n",
    "\n",
    "| Category           | Discount_Percentage |\n",
    "|--------------------|---------------------|\n",
    "| Electronics        | 10                  |\n",
    "| Furniture          | 15                  |\n",
    "| Clothing           | 20                  |\n",
    "| Groceries          | 5                   |\n",
    "| Toys               | 25                  |\n",
    "| Books              | 30                  |\n",
    "| Sports Equipment   | 12                  |\n",
    "| Beauty             | 18                  |\n",
    "\n",
    "\n"
   ]
  },
  {
   "cell_type": "code",
   "execution_count": 285,
   "metadata": {
    "id": "8EYhLjFQKb3a"
   },
   "outputs": [
    {
     "name": "stdout",
     "output_type": "stream",
     "text": [
      "          Category  Discount_Percentage\n",
      "0      Electronics                   10\n",
      "1        Furniture                   15\n",
      "2         Clothing                   20\n",
      "3        Groceries                    5\n",
      "4             Toys                   25\n",
      "5            Books                   30\n",
      "6  Sport Equipment                   12\n",
      "7           Beauty                   18\n"
     ]
    }
   ],
   "source": [
    "# CODE HERE\n",
    "df={'Category':['Electronics','Furniture','Clothing','Groceries','Toys','Books','Sport Equipment','Beauty'],\n",
    "                'Discount_Percentage': [10, 15, 20, 5, 25, 30, 12, 18]\n",
    "   }\n",
    "df_discounts=pd.DataFrame(df)\n",
    "print(df_discounts)"
   ]
  },
  {
   "cell_type": "markdown",
   "metadata": {
    "id": "E9smPkLDKcnh"
   },
   "source": [
    "## Merge DataFrames\n",
    "Merge df_sales and df_discounts based on the Category column using a left join. Save the result as df_combined.\n",
    "\n",
    "**Question:** How many rows are in df_combined?\n"
   ]
  },
  {
   "cell_type": "code",
   "execution_count": 286,
   "metadata": {
    "id": "9HMmk63MKsev"
   },
   "outputs": [],
   "source": [
    "# CODE HERE"
   ]
  },
  {
   "cell_type": "code",
   "execution_count": 287,
   "metadata": {
    "id": "cHnpky3uKtEP"
   },
   "outputs": [
    {
     "name": "stdout",
     "output_type": "stream",
     "text": [
      "   Order_ID     Product     Category  Quantity  Price Store_Location  \\\n",
      "0         1      Laptop  Electronics         3    800       New York   \n",
      "1         2  Headphones  Electronics         5    150  San Francisco   \n",
      "2         3       Chair    Furniture        10     85       New York   \n",
      "3         4        Desk    Furniture         2    200        Chicago   \n",
      "4         5     Monitor  Electronics         4    300  san Francisco   \n",
      "5         6        Lamp    Furniture         7     40       New York   \n",
      "6         7  Smartphone  Electronics         6    600        Chicago   \n",
      "7         8        Sofa    Furniture         1    500  San Francisco   \n",
      "\n",
      "   Total_price Price_category  Discount_Percentage  \n",
      "0         2400           High                   10  \n",
      "1          750            Low                   10  \n",
      "2          850            Low                   15  \n",
      "3          400            Low                   15  \n",
      "4         1200            Low                   10  \n",
      "5          280            Low                   15  \n",
      "6         3600           High                   10  \n",
      "7          500           High                   15  \n",
      "\n",
      "Number of rows in df_combined: 8\n"
     ]
    }
   ],
   "source": [
    "df_combined=pd.merge(df_sales, df_discounts, on='Category', how=\"left\")\n",
    "\n",
    "print(df_combined)\n",
    "num_rows = df_combined.shape[0]\n",
    "\n",
    "print(f\"\\nNumber of rows in df_combined: {num_rows}\")\n"
   ]
  },
  {
   "cell_type": "markdown",
   "metadata": {
    "id": "TvXamh3RLHAE"
   },
   "source": [
    "### Calculate Discounted Price\n",
    "Add a new column called Discounted_Price in df_combined, using the formula: **Discounted_Price = Total_Price * (1 - Discount_Percentage / 100).**"
   ]
  },
  {
   "cell_type": "code",
   "execution_count": 290,
   "metadata": {
    "id": "appxjtEgL8Yb"
   },
   "outputs": [
    {
     "name": "stdout",
     "output_type": "stream",
     "text": [
      "   Order_ID     Product     Category  Quantity  Price Store_Location  \\\n",
      "0         1      Laptop  Electronics         3    800       New York   \n",
      "1         2  Headphones  Electronics         5    150  San Francisco   \n",
      "2         3       Chair    Furniture        10     85       New York   \n",
      "3         4        Desk    Furniture         2    200        Chicago   \n",
      "4         5     Monitor  Electronics         4    300  san Francisco   \n",
      "5         6        Lamp    Furniture         7     40       New York   \n",
      "6         7  Smartphone  Electronics         6    600        Chicago   \n",
      "7         8        Sofa    Furniture         1    500  San Francisco   \n",
      "\n",
      "   Total_price Price_category  Discount_Percentage  Discounted_Price  \n",
      "0         2400           High                   10            2160.0  \n",
      "1          750            Low                   10             675.0  \n",
      "2          850            Low                   15             722.5  \n",
      "3          400            Low                   15             340.0  \n",
      "4         1200            Low                   10            1080.0  \n",
      "5          280            Low                   15             238.0  \n",
      "6         3600           High                   10            3240.0  \n",
      "7          500           High                   15             425.0  \n"
     ]
    }
   ],
   "source": [
    "# CODE HERE\n",
    "df_combined['Discounted_Price']=df_combined['Total_price'] * (1 - df_combined['Discount_Percentage']/100) \n",
    "print(df_combined)"
   ]
  },
  {
   "cell_type": "markdown",
   "metadata": {
    "id": "JZ5u0i4LKtrn"
   },
   "source": [
    "\n",
    "Question: What is the discounted price for each product?\n",
    "\n",
    "Concatenate DataFrames\n",
    "Concatenate df_sales with a new DataFrame df_extra_sales:\n",
    "\n",
    "| Order_ID | Product     | Category    | Quantity | Price | Store_Location |\n",
    "|----------|-------------|-------------|----------|-------|----------------|\n",
    "| 1        | Laptop      | Electronics | 3        | 800   | New York       |\n",
    "| 2        | Headphones  | Electronics | 5        | 150   | San Francisco  |\n",
    "| 3        | Chair       | Furniture   | 10       | 85    | New York       |\n",
    "| 4        | Desk        | Furniture   | 2        | 200   | Chicago        |\n",
    "| 5        | Monitor     | Electronics | 4        | 300   | San Francisco  |\n",
    "| 6        | Lamp        | Furniture   | 7        | 40    | New York       |\n",
    "| 7        | Smartphone  | Electronics | 6        | 600   | Chicago        |\n",
    "| 8        | Sofa        | Furniture   | 1        | 500   | San Francisco  |\n",
    "| 9        | Table       | Furniture   | 2        | 150   | Chicago        |\n",
    "| 10       | Speaker     | Electronics | 3        | 200   | San Francisco  |\n",
    "\n",
    "\n",
    "Question: After concatenation, how many total rows are in the updated DataFrame?\n",
    "\n"
   ]
  },
  {
   "cell_type": "code",
   "execution_count": 298,
   "metadata": {
    "id": "0ZMq-xCfN1u8"
   },
   "outputs": [
    {
     "name": "stdout",
     "output_type": "stream",
     "text": [
      "Total number of rows after concatenation: 10\n"
     ]
    }
   ],
   "source": [
    "# CODE HERE\n",
    "df_extra_sales = pd.DataFrame({\n",
    "    'Order_ID': [9, 10],\n",
    "    'Product': ['Table', 'Speaker'],\n",
    "    'Category': ['Furniture', 'Electronics'],\n",
    "    'Quantity': [2, 3],\n",
    "    'Price': [150, 200],\n",
    "    'Store_Location': ['Chicago', 'San Francisco']\n",
    "})\n",
    "\n",
    "df_updated=df_updated = pd.concat([df_sales, df_extra_sales], ignore_index=True)\n",
    "\n",
    "total_rows = df_updated.shape[0]\n",
    "\n",
    "print(f\"Total number of rows after concatenation: {total_rows}\")"
   ]
  },
  {
   "cell_type": "markdown",
   "metadata": {
    "id": "wQhlqr-nM33v"
   },
   "source": [
    "# Task 6: Grouping and Aggregation\n",
    "\n",
    "#### Group by Category\n",
    "\n",
    "\n",
    "Group by Category to find the total quantity sold and average price per category.\n",
    "\n",
    "**Question:** Which category sold the highest quantity overall?\n",
    "\n"
   ]
  },
  {
   "cell_type": "code",
   "execution_count": 299,
   "metadata": {
    "id": "oRz3n391Ng7x"
   },
   "outputs": [],
   "source": [
    "# CODE HERE"
   ]
  },
  {
   "cell_type": "code",
   "execution_count": 323,
   "metadata": {},
   "outputs": [],
   "source": [
    "category_quantity=df_sales.groupby('Category')['Quantity'].sum()\n",
    "highest_category=category_quantity.idxmax()\n",
    "highest_quantity = category_quantity.max()"
   ]
  },
  {
   "cell_type": "code",
   "execution_count": 325,
   "metadata": {},
   "outputs": [
    {
     "name": "stdout",
     "output_type": "stream",
     "text": [
      "The category with the highest quantity sold is: Furniture (20 units)\n"
     ]
    }
   ],
   "source": [
    "print(f\"The category with the highest quantity sold is: {highest_category} ({highest_quantity} units)\")"
   ]
  },
  {
   "cell_type": "markdown",
   "metadata": {
    "id": "5sHx8dbaNhep"
   },
   "source": [
    "#### Group by Store Location\n",
    "Group by Store_Location to find the total quantity sold and total Total_Price at each location.\n",
    "\n",
    "**Question:** Which store location generated the highest revenue?\n",
    "\n"
   ]
  },
  {
   "cell_type": "code",
   "execution_count": 300,
   "metadata": {
    "id": "3JxWV1uJNggi"
   },
   "outputs": [],
   "source": [
    "# CODE HERE"
   ]
  },
  {
   "cell_type": "code",
   "execution_count": 332,
   "metadata": {
    "id": "9KJ7i9gjNkoR"
   },
   "outputs": [
    {
     "name": "stdout",
     "output_type": "stream",
     "text": [
      "Store Location which generated the highest_revenue:  Chicago 4000\n"
     ]
    }
   ],
   "source": [
    "store_location=df_sales.groupby('Store_Location')['Total_price'].sum()\n",
    "highest_sales_location=store_location.idxmax()\n",
    "highest_sales=store_location.max()\n",
    "\n",
    "print('Store Location which generated the highest_revenue: ',highest_sales_location,highest_sales)\n"
   ]
  },
  {
   "cell_type": "markdown",
   "metadata": {
    "id": "7IU3FWIqNlcD"
   },
   "source": [
    "#### Discounted Revenue Calculation\n",
    "Using df_combined, group by Category and calculate the average Discounted_Price and the total revenue after discounts.\n",
    "\n",
    "**Question:** What is the total discounted revenue for the \"Electronics\" category?"
   ]
  },
  {
   "cell_type": "code",
   "execution_count": 301,
   "metadata": {
    "id": "4LmRe4xbNkhN"
   },
   "outputs": [],
   "source": [
    "# CODE HERE"
   ]
  },
  {
   "cell_type": "code",
   "execution_count": 338,
   "metadata": {
    "id": "JU46lZxQNYr0"
   },
   "outputs": [
    {
     "name": "stdout",
     "output_type": "stream",
     "text": [
      "The discounted revenue for the Electronics:  7155.0\n"
     ]
    }
   ],
   "source": [
    "electronics_df=df_combined[df_sales['Category']=='Electronics']\n",
    "\n",
    "total_discounted_revenue=electronics_df['Discounted_Price'].sum()\n",
    "\n",
    "print('The discounted revenue for the Electronics: ',total_discounted_revenue)"
   ]
  },
  {
   "cell_type": "code",
   "execution_count": null,
   "metadata": {},
   "outputs": [],
   "source": []
  }
 ],
 "metadata": {
  "colab": {
   "provenance": []
  },
  "kernelspec": {
   "display_name": "Python 3 (ipykernel)",
   "language": "python",
   "name": "python3"
  },
  "language_info": {
   "codemirror_mode": {
    "name": "ipython",
    "version": 3
   },
   "file_extension": ".py",
   "mimetype": "text/x-python",
   "name": "python",
   "nbconvert_exporter": "python",
   "pygments_lexer": "ipython3",
   "version": "3.13.5"
  }
 },
 "nbformat": 4,
 "nbformat_minor": 4
}
