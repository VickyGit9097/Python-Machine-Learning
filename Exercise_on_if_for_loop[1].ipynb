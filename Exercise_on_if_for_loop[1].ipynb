{
 "cells": [
  {
   "cell_type": "markdown",
   "metadata": {
    "id": "nk4HskNQSz0B"
   },
   "source": [
    "# IF , ELSE.... FOR LOOP"
   ]
  },
  {
   "cell_type": "markdown",
   "metadata": {
    "id": "Z-1SRcj1Sz0T"
   },
   "source": [
    "## Question:\n",
    "\n",
    "Write a Python program that accepts a number between 1 and 7 as input and prints the corresponding day of the week. If the input is not between 1 and 7, print an error message like \"Invalid day\".\n",
    "\n",
    "### Day Mapping:\n",
    "- 1 = Sunday\n",
    "- 2 = Monday\n",
    "- 3 = Tuesday\n",
    "- 4 = Wednesday\n",
    "- 5 = Thursday\n",
    "- 6 = Friday\n",
    "- 7 = Saturday\n",
    "\n",
    "### Example:\n",
    "\n",
    "- **Input:**  \n",
    "  `3`\n",
    "  \n",
    "- **Output:**  \n",
    "  `Tuesday`\n",
    "\n",
    "- **Input:**  \n",
    "  `8`\n",
    "  \n",
    "- **Output:**  \n",
    "  `Invalid day`\n",
    "\n",
    "### Additional Notes:\n",
    "- Ensure that the program handles both valid and invalid inputs.\n",
    "- Use conditionals to check the input value and print the corresponding day or an error message.\n"
   ]
  },
  {
   "cell_type": "code",
   "execution_count": 4,
   "metadata": {
    "id": "cqnl9OhPSz0W"
   },
   "outputs": [
    {
     "name": "stdin",
     "output_type": "stream",
     "text": [
      "Enter number between 1 to7 2\n"
     ]
    },
    {
     "name": "stdout",
     "output_type": "stream",
     "text": [
      "Monday\n"
     ]
    }
   ],
   "source": [
    "#CODE HERE\n",
    "day_no=int(input('Enter number between 1 to7'))\n",
    "\n",
    "if day_no==1:\n",
    "           print('Sunday')\n",
    "elif day_no==2:\n",
    "           print('Monday')\n",
    "elif day_no==3:\n",
    "           print('Tuesday')\n",
    "elif day_no==4:\n",
    "           print('Wednesday')\n",
    "elif day_no==5:\n",
    "           print('Thursday')\n",
    "elif day_no==6:\n",
    "           print('Friday')\n",
    "elif day_no==7:\n",
    "           print('Saturday')\n",
    "else:\n",
    "    print(\"Invalid day\")"
   ]
  },
  {
   "cell_type": "markdown",
   "metadata": {
    "id": "7eeB8KVqZ36h"
   },
   "source": [
    "## Question:\n",
    "\n",
    "Write a Python program to check if a given number is positive, negative, or zero.\n",
    "\n",
    "- **Input:** `-5`\n",
    "- **Output:** `Negative`\n"
   ]
  },
  {
   "cell_type": "code",
   "execution_count": 9,
   "metadata": {
    "id": "-xm6TtIQZ7iM"
   },
   "outputs": [
    {
     "name": "stdin",
     "output_type": "stream",
     "text": [
      "Enter the number -5\n"
     ]
    },
    {
     "name": "stdout",
     "output_type": "stream",
     "text": [
      "Negative\n"
     ]
    }
   ],
   "source": [
    "# CODE HERE\n",
    "no=int(input(\"Enter the number\"))\n",
    "if no >= 0:\n",
    "       if no==0:\n",
    "          print('Zero')\n",
    "       else:\n",
    "           print(\"Positive\")\n",
    "else:\n",
    "    print(\"Negative\")\n"
   ]
  },
  {
   "cell_type": "markdown",
   "metadata": {
    "id": "427bCrfgZ3yu"
   },
   "source": [
    "## Question:\n",
    "Write a Python program that checks if a given age qualifies for voting. The legal voting age is 18 years or older. If the person is 18 or older, the program should print `\"Eligible to vote\"`. Otherwise, it should print `\"Not eligible to vote\"`.\n",
    "\n",
    "- **Input:** `20`\n",
    "- **Output:** `Eligible to vote`\n",
    "\n",
    "### Additional Example:\n",
    "\n",
    "- **Input:** `15`\n",
    "- **Output:** `Not eligible to vote`\n"
   ]
  },
  {
   "cell_type": "code",
   "execution_count": 13,
   "metadata": {
    "id": "5Eqikc82aOPw"
   },
   "outputs": [
    {
     "name": "stdin",
     "output_type": "stream",
     "text": [
      "Enter your age: 15\n"
     ]
    },
    {
     "name": "stdout",
     "output_type": "stream",
     "text": [
      "Not eligible to vote\n"
     ]
    }
   ],
   "source": [
    "# CODE HERE\n",
    "age=int(input(\"Enter your age:\"))\n",
    "\n",
    "if age >= 18:\n",
    "    print(\"Eligible to vote\")\n",
    "else:\n",
    "    print(\"Not eligible to vote\")"
   ]
  },
  {
   "cell_type": "markdown",
   "metadata": {
    "id": "xVryD6FBaOxn"
   },
   "source": [
    "## Question:\n",
    "\n",
    "Write a Python program to check if a given number is within a specified range. The number should be between 10 and 50, inclusive. If the number is within this range, the program should print `\"Within range\"`. Otherwise, it should print `\"Out of range\"`.\n",
    "\n",
    "- **Input:** `35`\n",
    "- **Output:** `Within range`\n",
    "\n",
    "### Additional Example:\n",
    "\n",
    "- **Input:** `5`\n",
    "- **Output:** `Out of range`\n",
    "\n",
    "- **Input:** `55`\n",
    "- **Output:** `Out of range`\n"
   ]
  },
  {
   "cell_type": "code",
   "execution_count": 19,
   "metadata": {
    "id": "sx47s1pGaNTO"
   },
   "outputs": [
    {
     "name": "stdin",
     "output_type": "stream",
     "text": [
      "Enter the range number: 55\n"
     ]
    },
    {
     "name": "stdout",
     "output_type": "stream",
     "text": [
      "Out of range\n"
     ]
    }
   ],
   "source": [
    "# CODE HERE\n",
    "number=int(input(\"Enter the range number:\"))\n",
    "\n",
    "if number >=10 and number <=50:\n",
    "    print(\"Within range\")\n",
    "else:\n",
    "    print(\"Out of range\")"
   ]
  },
  {
   "cell_type": "markdown",
   "metadata": {
    "id": "O9WcobPSaehi"
   },
   "source": [
    "## Question:\n",
    "\n",
    "Write a Python program that accepts a string and checks the first letter of the string. If the string starts with a vowel (A, E, I, O, U), the program should print `\"Vowel\"`. If the string starts with a consonant, the program should print `\"Consonant\"`.\n",
    "\n",
    "- **Input:** `apple`\n",
    "- **Output:** `Vowel`\n",
    "\n",
    "### Additional Example:\n",
    "\n",
    "- **Input:** `banana`\n",
    "- **Output:** `Consonant`\n",
    "\n",
    "- **Input:** `Orange`\n",
    "- **Output:** `Vowel`\n"
   ]
  },
  {
   "cell_type": "code",
   "execution_count": 27,
   "metadata": {
    "id": "uV95SYO1aeJc"
   },
   "outputs": [
    {
     "name": "stdin",
     "output_type": "stream",
     "text": [
      "Enter the text: Banana\n"
     ]
    },
    {
     "name": "stdout",
     "output_type": "stream",
     "text": [
      "Consonant\n"
     ]
    }
   ],
   "source": [
    "# CODE HERE\n",
    "text=input(\"Enter the text:\")\n",
    "\n",
    "first_letter = text[0].lower()\n",
    "\n",
    "if first_letter in 'aeiou':\n",
    "    print('Vowel')\n",
    "else:\n",
    "    print('Consonant')"
   ]
  },
  {
   "cell_type": "markdown",
   "metadata": {
    "id": "YMNIDtVQSz0X"
   },
   "source": [
    "## Question:\n",
    "\n",
    "Write a Python program that finds all numbers between 2000 and 3200 (inclusive) that are divisible by 7 but not divisible by 5. The program should display the results in a single line, with each number separated by commas.\n",
    "\n",
    "### Example:\n",
    "\n",
    "- **Output:** `2002, 2014, 2028, 2036, 2048, 2056, 2072, 2084, 2092, ...`\n",
    "\n",
    "### Additional Notes:\n",
    "\n",
    "- The numbers should be displayed in one line.\n",
    "- Make sure the numbers are separated by commas, without any extra commas at the end.\n"
   ]
  },
  {
   "cell_type": "code",
   "execution_count": 36,
   "metadata": {
    "id": "1yObEB3mSz0Y"
   },
   "outputs": [
    {
     "name": "stdout",
     "output_type": "stream",
     "text": [
      "2002,2009,2016,2023,2037,2044,2051,2058,2072,2079,2086,2093,2107,2114,2121,2128,2142,2149,2156,2163,2177,2184,2191,2198,2212,2219,2226,2233,2247,2254,2261,2268,2282,2289,2296,2303,2317,2324,2331,2338,2352,2359,2366,2373,2387,2394,2401,2408,2422,2429,2436,2443,2457,2464,2471,2478,2492,2499,2506,2513,2527,2534,2541,2548,2562,2569,2576,2583,2597,2604,2611,2618,2632,2639,2646,2653,2667,2674,2681,2688,2702,2709,2716,2723,2737,2744,2751,2758,2772,2779,2786,2793,2807,2814,2821,2828,2842,2849,2856,2863,2877,2884,2891,2898,2912,2919,2926,2933,2947,2954,2961,2968,2982,2989,2996,3003,3017,3024,3031,3038,3052,3059,3066,3073,3087,3094,3101,3108,3122,3129,3136,3143,3157,3164,3171,3178,3192,3199\n"
     ]
    }
   ],
   "source": [
    "# CODE HERE\n",
    "result=[]\n",
    "\n",
    "for no in range(2000, 3201):\n",
    "    if no % 7 == 0 and no % 5 != 0:\n",
    "        result.append(str(no)) \n",
    "\n",
    "print(','.join(result))\n"
   ]
  },
  {
   "cell_type": "markdown",
   "metadata": {
    "id": "7xuI-2Q5Sz0a"
   },
   "source": [
    "## Question:\n",
    "\n",
    "Write a Python program that calculates the factorial of a given number. The program should compute the factorial and display the result in a single line.\n",
    "\n",
    "### Example:\n",
    "\n",
    "- **Input:** `8`\n",
    "- **Output:** `40320`\n",
    "\n",
    "### Additional Notes:\n",
    "- The factorial of a number `n` is the product of all positive integers less than or equal to `n` (i.e., `n! = n × (n-1) × (n-2) × ... × 1`).\n",
    "- Ensure that the program handles any valid non-negative integer input.\n"
   ]
  },
  {
   "cell_type": "code",
   "execution_count": 39,
   "metadata": {
    "id": "dSmB7l-ASz0b"
   },
   "outputs": [
    {
     "name": "stdin",
     "output_type": "stream",
     "text": [
      "Enter the number 8\n"
     ]
    },
    {
     "name": "stdout",
     "output_type": "stream",
     "text": [
      "40320\n"
     ]
    }
   ],
   "source": [
    "#CODE HERE\n",
    "number=int(input(\"Enter the number\"))\n",
    "\n",
    "fact=1\n",
    "\n",
    "if number >=0:\n",
    "    for i in range(1, number + 1):\n",
    "        fact *=i\n",
    "    print(fact)\n",
    "else:\n",
    "    print('Factorial is not define for negative number')\n"
   ]
  },
  {
   "cell_type": "markdown",
   "metadata": {
    "id": "fNk0mFz_Sz0d"
   },
   "source": [
    "## Question:\n",
    "\n",
    "Given an integer `n`, write a Python program that generates a dictionary where the keys are integers from 1 to `n` (inclusive) and the values are the square of those integers. The program should then print the dictionary.\n",
    "\n",
    "### Example:\n",
    "\n",
    "- **Input:** `8`\n",
    "- **Output:** `{1: 1, 2: 4, 3: 9, 4: 16, 5: 25, 6: 36, 7: 49, 8: 64}`\n",
    "\n",
    "### Additional Notes:\n",
    "- Use the `dict()` function to create the dictionary.\n",
    "- The keys should be integers from 1 to `n`, and the values should be the squares of those integers.\n",
    "- Ensure that the program can handle any positive integer input.\n"
   ]
  },
  {
   "cell_type": "code",
   "execution_count": 43,
   "metadata": {
    "id": "ms3aPJBqSz0f"
   },
   "outputs": [
    {
     "name": "stdin",
     "output_type": "stream",
     "text": [
      "Enter a number: 9\n"
     ]
    },
    {
     "name": "stdout",
     "output_type": "stream",
     "text": [
      "{1: 1, 2: 4, 3: 9, 4: 16, 5: 25, 6: 36, 7: 49, 8: 64, 9: 81}\n"
     ]
    }
   ],
   "source": [
    "#CODE HERE\n",
    "no=int(input(\"Enter a number:\"))\n",
    "\n",
    "dict_square={}\n",
    "\n",
    "for i in range(1,no+1):\n",
    "    dict_square[i]=i**2\n",
    "    \n",
    "print(dict_square)"
   ]
  },
  {
   "cell_type": "markdown",
   "metadata": {
    "id": "TYBTx6C7Sz0k"
   },
   "source": [
    "## Question: \n",
    "\n",
    "Write a Python program that defines a user-defined function for the following mathematical operations:\n",
    "\n",
    "- **Addition**: Function name: `add`\n",
    "- **Subtraction**: Function name: `sub`\n",
    "- **Multiplication**: Function name: `mul`\n",
    "- **Division**: Function name: `div`\n",
    "- **Power**: Function name: `pow`\n",
    "\n",
    "Each function should take two input parameters (numbers) and return the result of the respective operation.\n",
    "\n",
    "### Example:\n",
    "\n",
    "- For addition: `add(2, 3)` should return `5`\n",
    "- For subtraction: `sub(5, 2)` should return `3`\n",
    "- For multiplication: `mul(3, 4)` should return `12`\n",
    "- For division: `div(10, 2)` should return `5.0`\n",
    "- For power: `pow(2, 3)` should return `8`\n",
    "\n",
    "### Additional Notes:\n",
    "- You can create individual functions for each operation and call them as needed.\n",
    "- Ensure that the division handles division by zero appropriately (you may raise an exception or return a specific message).\n"
   ]
  },
  {
   "cell_type": "code",
   "execution_count": 48,
   "metadata": {
    "id": "EIIeQT0wSz0l"
   },
   "outputs": [
    {
     "name": "stdout",
     "output_type": "stream",
     "text": [
      "Addition:  5\n",
      "Subtraction:  3\n",
      "Multiplication:  12\n",
      "Division:  5.0\n",
      "Power:  8\n"
     ]
    }
   ],
   "source": [
    "#CODE HERE\n",
    "def add(a, b):\n",
    "    return a + b\n",
    "def sub(a, b):\n",
    "    return a - b\n",
    "def mul(a, b):\n",
    "    return a * b\n",
    "def div(a, b):\n",
    "    if b != 0:\n",
    "        return a / b\n",
    "    else:\n",
    "        return \"Error: Division by zero is not allowed\"\n",
    "def pow(a, b):\n",
    "    return a ** b\n",
    "print(\"Addition: \", add(2,3))\n",
    "print(\"Subtraction: \", sub(5,2))\n",
    "print(\"Multiplication: \", mul(3,4))\n",
    "print(\"Division: \", div(10,2))\n",
    "print(\"Power: \", pow(2,3))"
   ]
  },
  {
   "cell_type": "markdown",
   "metadata": {
    "id": "XPkq1BeXSz0m"
   },
   "source": [
    "## Question:\n",
    "\n",
    "Write a Python program that takes a string as input and calculates the number of digits and letters in it.\n",
    "\n",
    "The program should count:\n",
    "- The number of **letters** (alphabetic characters).\n",
    "- The number of **digits** (numerical characters).\n",
    "\n",
    "### Example:\n",
    "\n",
    "- **Input:**  \n",
    "  `Hello321Bye360`\n",
    "\n",
    "- **Output:**  \n",
    "Digits: 6 Letters: 8\n",
    "\n",
    "\n",
    "### Additional Notes:\n",
    "- The program should handle any string containing letters and digits.\n",
    "- Make sure to count only alphabetic characters as letters and only numeric characters as digits.\n"
   ]
  },
  {
   "cell_type": "code",
   "execution_count": 50,
   "metadata": {
    "id": "nQYVtVN0Sz0o"
   },
   "outputs": [
    {
     "name": "stdin",
     "output_type": "stream",
     "text": [
      "Enter a string:  iode632432bujdgw967\n"
     ]
    },
    {
     "name": "stdout",
     "output_type": "stream",
     "text": [
      "Digits: 9 Letters: 10\n"
     ]
    }
   ],
   "source": [
    "# CODE HERE\n",
    "string = input(\"Enter a string:\")\n",
    "\n",
    "digit_count = 0\n",
    "letter_count = 0\n",
    "\n",
    "for char in string:\n",
    "    if char.isdigit():  \n",
    "        digit_count += 1\n",
    "    elif char.isalpha():  \n",
    "        letter_count += 1\n",
    "\n",
    "print(f\"Digits: {digit_count} Letters: {letter_count}\")"
   ]
  },
  {
   "cell_type": "markdown",
   "metadata": {
    "id": "eYvYelSPSz0q"
   },
   "source": [
    "## Question:\n",
    "\n",
    "Given the tuple:\n",
    "\n",
    "\n",
    "`numbers = (1, 2, 3, 4, 5, 6, 7, 8, 9, 10)`\n",
    "Write a Python program to print the first half of the values on one line and the second half on another line.\n",
    "\n",
    "Example:\n",
    "`Input: (1, 2, 3, 4, 5, 6, 7, 8, 9, 10)`\n",
    "\n",
    "Output:\n",
    "\n",
    "`1 2 3 4 5`\n",
    "\n",
    "`6 7 8 9 10`\n",
    "\n",
    "Additional Notes:\n",
    "The tuple contains 10 elements in this case. If the length of the tuple is even, split it evenly into two halves.\n",
    "You can use slicing to split the tuple into two parts.\n",
    "Ensure that the program works for any tuple with an even number of elements."
   ]
  },
  {
   "cell_type": "code",
   "execution_count": 58,
   "metadata": {
    "id": "qZhYemL4Sz0q"
   },
   "outputs": [
    {
     "name": "stdout",
     "output_type": "stream",
     "text": [
      "1 2 3 4 5\n",
      "6 7 8 9 10\n"
     ]
    }
   ],
   "source": [
    "# CODE HERE\n",
    "number=[1,2,3,4,5,6,7,8,9,10]\n",
    "\n",
    "midpoint = len(number) // 2\n",
    "\n",
    "first_half=number[:midpoint]\n",
    "second_half=number[midpoint:]\n",
    "\n",
    "print(\" \".join(map(str, first_half)))\n",
    "print(\" \".join(map(str, second_half)))\n"
   ]
  },
  {
   "cell_type": "markdown",
   "metadata": {
    "id": "VsGvzi0lSz0w"
   },
   "source": [
    "## Question:\n",
    "\n",
    "Given the tuple:\n",
    "\n",
    "\n",
    "`numbers = (1, 2, 3, 4, 5, 6, 7, 8, 9, 10)`\n",
    "\n",
    "\n",
    "Write a Python program to generate and print another tuple that contains only the even numbers from the given tuple.\n",
    "\n",
    "### Example:\n",
    "\n",
    "- **Input:**  \n",
    "  `(1, 2, 3, 4, 5, 6, 7, 8, 9, 10)`\n",
    "  \n",
    "- **Output:**  \n",
    "  ```\n",
    "  (2, 4, 6, 8, 10)\n",
    "  ```\n",
    "\n",
    "### Additional Notes:\n",
    "- The program should:\n",
    "  - **Return a new tuple containing only even numbers.**\n",
    "  - **Ensure that the program works for any tuple of integers.**\n",
    "- The program should be able to handle tuples with any number of integers, not just the given example.\n",
    "```\n"
   ]
  },
  {
   "cell_type": "code",
   "execution_count": 63,
   "metadata": {
    "id": "o2zUBK3lSz0x"
   },
   "outputs": [],
   "source": [
    "# CODE HERE\n",
    "def even_no(a):\n",
    "    if a%2==0:\n",
    "        return True\n",
    "    else:\n",
    "        return False"
   ]
  },
  {
   "cell_type": "code",
   "execution_count": 64,
   "metadata": {},
   "outputs": [
    {
     "data": {
      "text/plain": [
       "[2, 4, 6, 8, 10]"
      ]
     },
     "execution_count": 64,
     "metadata": {},
     "output_type": "execute_result"
    }
   ],
   "source": [
    "l=(1,2,3,4,5,6,7,8,9,10)\n",
    "list(filter(even_no,l))"
   ]
  },
  {
   "cell_type": "markdown",
   "metadata": {
    "id": "zIdOAXatSz0z"
   },
   "source": [
    "## Question:\n",
    "\n",
    "Write a Python program that accepts a string as input and checks whether it matches one of the following variations: `\"yes\"`, `\"YES\"`, or `\"Yes\"`. If the string matches any of these values, print `\"Yes\"`. Otherwise, print `\"No\"`.\n",
    "\n",
    "### Example:\n",
    "\n",
    "- **Input:**  \n",
    "  `\"Yes\"`\n",
    "  \n",
    "- **Output:**  \n",
    "  `\"Yes\"`\n",
    "\n",
    "- **Input:**  \n",
    "  `\"no\"`\n",
    "  \n",
    "- **Output:**  \n",
    "  `\"No\"`\n",
    "\n",
    "### Additional Notes:\n",
    "- The program should be case-sensitive for the variations of the word `\"yes\"`.\n",
    "- Ensure the program prints `\"Yes\"` only for the exact matches of `\"yes\"`, `\"YES\"`, or `\"Yes\"`.\n"
   ]
  },
  {
   "cell_type": "code",
   "execution_count": 73,
   "metadata": {
    "id": "2jUfxoXjSz0z"
   },
   "outputs": [
    {
     "name": "stdin",
     "output_type": "stream",
     "text": [
      "Enter only Yes/No:  yes\n"
     ]
    },
    {
     "name": "stdout",
     "output_type": "stream",
     "text": [
      "Yes\n"
     ]
    }
   ],
   "source": [
    "# CODE HERE\n",
    "text=input(\"Enter only Yes/No: \")\n",
    "\n",
    "if text==\"Yes\" or text==\"yes\" or text==\"YES\":\n",
    "      print(\"Yes\")\n",
    "else:\n",
    "    print(\"No\")"
   ]
  },
  {
   "cell_type": "code",
   "execution_count": null,
   "metadata": {},
   "outputs": [],
   "source": []
  }
 ],
 "metadata": {
  "colab": {
   "provenance": []
  },
  "kernelspec": {
   "display_name": "Python 3 (ipykernel)",
   "language": "python",
   "name": "python3"
  },
  "language_info": {
   "codemirror_mode": {
    "name": "ipython",
    "version": 3
   },
   "file_extension": ".py",
   "mimetype": "text/x-python",
   "name": "python",
   "nbconvert_exporter": "python",
   "pygments_lexer": "ipython3",
   "version": "3.13.5"
  }
 },
 "nbformat": 4,
 "nbformat_minor": 4
}
