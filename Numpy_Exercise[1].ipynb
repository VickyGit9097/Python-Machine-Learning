{
 "cells": [
  {
   "cell_type": "markdown",
   "metadata": {},
   "source": [
    "## Question 1: Creating a NumPy Array  \n",
    "Write a Python code snippet to create a NumPy array of 10 zeros.\n",
    "\n",
    "### Example:\n",
    "- **Output:**  \n",
    "  `array([0., 0., 0., 0., 0., 0., 0., 0., 0., 0.])`\n"
   ]
  },
  {
   "cell_type": "code",
   "execution_count": 12,
   "metadata": {},
   "outputs": [
    {
     "name": "stdout",
     "output_type": "stream",
     "text": [
      "[0. 0. 0. 0. 0. 0. 0. 0. 0. 0.]\n"
     ]
    }
   ],
   "source": [
    "# Write your code here\n",
    "import numpy as np\n",
    "l=np.zeros(10)\n",
    "print(l)"
   ]
  },
  {
   "cell_type": "markdown",
   "metadata": {},
   "source": [
    "\n",
    "\n",
    "## Question 2: Creating a Range of Numbers  \n",
    "Write a Python code snippet to create a NumPy array with numbers from 10 to 20 (inclusive) with a step of 2.\n",
    "\n",
    "### Example:\n",
    "- **Output:**  \n",
    "  `array([10, 12, 14, 16, 18, 20])`"
   ]
  },
  {
   "cell_type": "code",
   "execution_count": 13,
   "metadata": {},
   "outputs": [
    {
     "name": "stdout",
     "output_type": "stream",
     "text": [
      "[10 12 14 16 18 20]\n"
     ]
    }
   ],
   "source": [
    "# Write your code here\n",
    "l=np.arange(10,21,2)\n",
    "print(l)"
   ]
  },
  {
   "cell_type": "markdown",
   "metadata": {},
   "source": [
    "## Question 3: Reshaping an Array  \n",
    "Write a Python code snippet to reshape a NumPy array with 12 elements into a 3x4 matrix.\n",
    "\n",
    "### Example:\n",
    "- **Input:**  \n",
    "  `array([1, 2, 3, 4, 5, 6, 7, 8, 9, 10, 11, 12])`\n",
    "  \n",
    "- **Output:**  \n",
    "  `array([[ 1,  2,  3,  4],  \n",
    "         [ 5,  6,  7,  8],  \n",
    "         [ 9, 10, 11, 12]])`"
   ]
  },
  {
   "cell_type": "code",
   "execution_count": 20,
   "metadata": {},
   "outputs": [
    {
     "data": {
      "text/plain": [
       "array([[ 1,  2,  3,  4],\n",
       "       [ 5,  6,  7,  8],\n",
       "       [ 9, 10, 11, 12]])"
      ]
     },
     "execution_count": 20,
     "metadata": {},
     "output_type": "execute_result"
    }
   ],
   "source": [
    "# Write your code here\n",
    "a=np.array([1, 2, 3, 4, 5, 6, 7, 8, 9, 10, 11, 12])\n",
    "a.reshape(3,4)"
   ]
  },
  {
   "cell_type": "markdown",
   "metadata": {},
   "source": [
    "## Question 4: Array Indexing  \n",
    "Write a Python code snippet to retrieve the element at the 2nd row and 3rd column from a 3x4 matrix.\n",
    "\n",
    "### Example:\n",
    "- **Input:**  \n",
    "  `array([[1, 2, 3, 4],  \n",
    "         [5, 6, 7, 8],  \n",
    "         [9, 10, 11, 12]])`\n",
    "  \n",
    "- **Output:**  \n",
    "  `11`"
   ]
  },
  {
   "cell_type": "code",
   "execution_count": 24,
   "metadata": {},
   "outputs": [
    {
     "name": "stdout",
     "output_type": "stream",
     "text": [
      "11\n"
     ]
    }
   ],
   "source": [
    "# Write your code here\n",
    "a=np.array([[1, 2, 3, 4],      [5, 6, 7, 8],      [9, 10, 11, 12]])\n",
    "print(a[2][2])"
   ]
  },
  {
   "cell_type": "markdown",
   "metadata": {},
   "source": [
    "\n",
    "## Question 5: Array Operations  \n",
    "Write a Python code snippet to add 5 to every element of the following NumPy array.\n",
    "\n",
    "### Example:\n",
    "- **Input:**  \n",
    "  `array([1, 2, 3, 4, 5])`\n",
    "  \n",
    "- **Output:**  \n",
    "  `array([6, 7, 8, 9, 10])`"
   ]
  },
  {
   "cell_type": "code",
   "execution_count": 25,
   "metadata": {},
   "outputs": [
    {
     "name": "stdout",
     "output_type": "stream",
     "text": [
      "[ 6  7  8  9 10]\n"
     ]
    }
   ],
   "source": [
    "# Write your code here\n",
    "a=np.array([1, 2, 3, 4, 5])\n",
    "print(a+5)"
   ]
  },
  {
   "cell_type": "markdown",
   "metadata": {},
   "source": [
    "## Question 6: Array Transposition  \n",
    "Write a Python code snippet to transpose a 2x3 NumPy array.\n",
    "\n",
    "### Example:\n",
    "- **Input:**  \n",
    "  `array([[1, 2, 3],  \n",
    "         [4, 5, 6]])`\n",
    "  \n",
    "- **Output:**  \n",
    "  `array([[1, 4],  \n",
    "         [2, 5],  \n",
    "         [3, 6]])`"
   ]
  },
  {
   "cell_type": "code",
   "execution_count": 33,
   "metadata": {},
   "outputs": [
    {
     "name": "stdout",
     "output_type": "stream",
     "text": [
      "[[1 4]\n",
      " [2 5]\n",
      " [3 6]]\n"
     ]
    }
   ],
   "source": [
    "# Write your code here\n",
    "a=np.array([[1, 2, 3],      [4, 5, 6]])\n",
    "an=a.reshape(3,2)\n",
    "print(a.transpose(1,0))"
   ]
  },
  {
   "cell_type": "markdown",
   "metadata": {},
   "source": [
    "\n",
    "## Question 7: Array Arithmetic  \n",
    "Write a Python code snippet to multiply two NumPy arrays element-wise.\n",
    "\n",
    "### Example:\n",
    "- **Input:**  \n",
    "  `array([1, 2, 3])`,  \n",
    "  `array([4, 5, 6])`\n",
    "  \n",
    "- **Output:**  \n",
    "  `array([4, 10, 18])`"
   ]
  },
  {
   "cell_type": "code",
   "execution_count": 35,
   "metadata": {},
   "outputs": [
    {
     "name": "stdout",
     "output_type": "stream",
     "text": [
      "[ 4 10 18]\n"
     ]
    }
   ],
   "source": [
    "# Write your code here\n",
    "a=np.array([1, 2, 3])\n",
    "b=np.array([4, 5, 6])\n",
    "print(a*b)"
   ]
  },
  {
   "cell_type": "markdown",
   "metadata": {},
   "source": [
    "\n",
    "## Question 9: Statistical Functions  \n",
    "Write a Python code snippet to compute the mean of a NumPy array.\n",
    "\n",
    "### Example:\n",
    "- **Input:**  \n",
    "  `array([10, 20, 30, 40, 50])`\n",
    "  \n",
    "- **Output:**  \n",
    "  `30.0`"
   ]
  },
  {
   "cell_type": "code",
   "execution_count": 42,
   "metadata": {},
   "outputs": [
    {
     "name": "stdout",
     "output_type": "stream",
     "text": [
      "30.0\n"
     ]
    }
   ],
   "source": [
    "# Write your code here\n",
    "a=np.array([10, 20, 30, 40, 50])\n",
    "print(np.mean(a))"
   ]
  },
  {
   "cell_type": "markdown",
   "metadata": {},
   "source": [
    "## Question 8: Boolean Indexing  \n",
    "Write a Python code snippet to create a new NumPy array by selecting elements greater than 5 from the following array.\n",
    "\n",
    "### Example:\n",
    "- **Input:**  \n",
    "  `array([1, 2, 3, 6, 7, 8])`\n",
    "  \n",
    "- **Output:**  \n",
    "  `array([6, 7, 8])`"
   ]
  },
  {
   "cell_type": "code",
   "execution_count": 45,
   "metadata": {},
   "outputs": [
    {
     "name": "stdout",
     "output_type": "stream",
     "text": [
      "[6 7 8]\n"
     ]
    }
   ],
   "source": [
    "# Write your code here\n",
    "a=np.array([1, 2, 3, 6, 7, 8])\n",
    "print(a[a>5])"
   ]
  },
  {
   "cell_type": "markdown",
   "metadata": {},
   "source": [
    "## Question 10: Stacking Arrays  \n",
    "Write a Python code snippet to stack two NumPy arrays vertically.\n",
    "\n",
    "### Example:\n",
    "- **Input:**  \n",
    "  `array([1, 2, 3])`,  \n",
    "  `array([4, 5, 6])`\n",
    "  \n",
    "- **Output:**  \n",
    "  `array([[1, 2, 3],  \n",
    "         [4, 5, 6]])`\n"
   ]
  },
  {
   "cell_type": "code",
   "execution_count": 57,
   "metadata": {},
   "outputs": [
    {
     "name": "stdout",
     "output_type": "stream",
     "text": [
      "[[1 2 3]\n",
      " [4 5 6]]\n"
     ]
    }
   ],
   "source": [
    "# Write your code here\n",
    "a=np.array([1, 2, 3])\n",
    "b=np.array([4, 5, 6])\n",
    "print(np.vstack((a,b)))"
   ]
  },
  {
   "cell_type": "markdown",
   "metadata": {},
   "source": [
    "## Question 11: Creating an Identity Matrix  \n",
    "Write a Python code snippet to create a 3x3 identity matrix using NumPy.\n",
    "\n",
    "### Example:\n",
    "- **Output:**  \n",
    "  `array([[1., 0., 0.],  \n",
    "         [0., 1., 0.],  \n",
    "         [0., 0., 1.]])`\n"
   ]
  },
  {
   "cell_type": "code",
   "execution_count": 58,
   "metadata": {},
   "outputs": [
    {
     "name": "stdout",
     "output_type": "stream",
     "text": [
      "[[1. 0. 0.]\n",
      " [0. 1. 0.]\n",
      " [0. 0. 1.]]\n"
     ]
    }
   ],
   "source": [
    "# Write your code here\n",
    "a=np.eye(3,3)\n",
    "print(a)"
   ]
  },
  {
   "cell_type": "markdown",
   "metadata": {},
   "source": [
    "## Question 12: Array Dot Product  \n",
    "Write a Python code snippet to compute the dot product of two NumPy arrays.\n",
    "\n",
    "### Example:\n",
    "- **Input:**  \n",
    "  `array([1, 2])`,  \n",
    "  `array([3, 4])`\n",
    "  \n",
    "- **Output:**  \n",
    "  `11`"
   ]
  },
  {
   "cell_type": "code",
   "execution_count": 60,
   "metadata": {},
   "outputs": [
    {
     "name": "stdout",
     "output_type": "stream",
     "text": [
      "11\n"
     ]
    }
   ],
   "source": [
    "# Write your code here\n",
    "a=np.array([1, 2])\n",
    "b=np.array([3, 4])\n",
    "\n",
    "print(np.dot(a,b))"
   ]
  },
  {
   "cell_type": "markdown",
   "metadata": {},
   "source": [
    "## Question 13: Creating a Random Array  \n",
    "Write a Python code snippet to create a NumPy array of 5 random numbers between 0 and 1.\n",
    "\n"
   ]
  },
  {
   "cell_type": "code",
   "execution_count": 62,
   "metadata": {},
   "outputs": [
    {
     "name": "stdout",
     "output_type": "stream",
     "text": [
      "[[0.38154213 0.94791189 0.03374079 0.83915047 0.84188425]]\n"
     ]
    }
   ],
   "source": [
    "# Write your code here\n",
    "a=np.random.rand(1,5)\n",
    "print(a)"
   ]
  },
  {
   "cell_type": "markdown",
   "metadata": {},
   "source": [
    "## Question 14: Array Sorting  \n",
    "Write a Python code snippet to sort a NumPy array in ascending order.\n",
    "\n",
    "### Example:\n",
    "- **Input:**  \n",
    "  `array([3, 1, 4, 1, 5, 9, 2])`\n",
    "  \n",
    "- **Output:**  \n",
    "  `array([1, 1, 2, 3, 4, 5, 9])`"
   ]
  },
  {
   "cell_type": "code",
   "execution_count": 69,
   "metadata": {},
   "outputs": [
    {
     "name": "stdout",
     "output_type": "stream",
     "text": [
      "[1 1 2 3 4 5 9]\n"
     ]
    }
   ],
   "source": [
    "# Write your code here\n",
    "a=np.array([3, 1, 4, 1, 5, 9, 2])\n",
    "\n",
    "print(np.sort(a))"
   ]
  },
  {
   "cell_type": "markdown",
   "metadata": {},
   "source": [
    "## Question 15: Array Broadcasting  \n",
    "Write a Python code snippet to add a 1D array to a 2D array using broadcasting.\n",
    "\n",
    "### Example:\n",
    "- **Input:**  \n",
    "  `array([[1, 2],  \n",
    "         [3, 4]])`,  \n",
    "  `array([10, 20])`\n",
    "  \n",
    "- **Output:**  \n",
    "  `array([[11, 22],  \n",
    "         [13, 24]])`\n"
   ]
  },
  {
   "cell_type": "code",
   "execution_count": 70,
   "metadata": {},
   "outputs": [
    {
     "name": "stdout",
     "output_type": "stream",
     "text": [
      "[[11 22]\n",
      " [13 24]]\n"
     ]
    }
   ],
   "source": [
    "# Write your code here\n",
    "a=np.array([[1, 2],[3, 4]])\n",
    "b=np.array([10, 20])\n",
    "\n",
    "print(a+b)"
   ]
  },
  {
   "cell_type": "markdown",
   "metadata": {},
   "source": [
    "\n",
    "## Question 16: Reshaping with `-1`  \n",
    "Write a Python code snippet to reshape a NumPy array with 9 elements into a 3x3 matrix using `-1` for automatic dimension calculation.\n",
    "\n",
    "### Example:\n",
    "- **Input:**  \n",
    "  `array([1, 2, 3, 4, 5, 6, 7, 8, 9])`\n",
    "  \n",
    "- **Output:**  \n",
    "  `array([[1, 2, 3],  \n",
    "         [4, 5, 6],  \n",
    "         [7, 8, 9]])`"
   ]
  },
  {
   "cell_type": "code",
   "execution_count": 72,
   "metadata": {},
   "outputs": [
    {
     "name": "stdout",
     "output_type": "stream",
     "text": [
      "[[1 2 3]\n",
      " [4 5 6]\n",
      " [7 8 9]]\n"
     ]
    }
   ],
   "source": [
    "# Write your code here\n",
    "a=np.array([1, 2, 3, 4, 5, 6, 7, 8, 9])\n",
    "\n",
    "print(a.reshape(3,-1))\n"
   ]
  },
  {
   "cell_type": "markdown",
   "metadata": {},
   "source": [
    "## Question 17: Element-wise Square  \n",
    "Write a Python code snippet to square each element in a NumPy array.\n",
    "\n",
    "### Example:\n",
    "- **Input:**  \n",
    "  `array([1, 2, 3, 4])`\n",
    "  \n",
    "- **Output:**  \n",
    "  `array([1, 4, 9, 16])`\n"
   ]
  },
  {
   "cell_type": "code",
   "execution_count": 73,
   "metadata": {},
   "outputs": [
    {
     "name": "stdout",
     "output_type": "stream",
     "text": [
      "[ 1  4  9 16]\n"
     ]
    }
   ],
   "source": [
    "# Write your code here\n",
    "a=np.array([1, 2, 3, 4])\n",
    "print(a**2)"
   ]
  },
  {
   "cell_type": "markdown",
   "metadata": {},
   "source": [
    "## Question 18: Counting Elements  \n",
    "Write a Python code snippet to count the occurrences of a particular element (e.g., 3) in a NumPy array.\n",
    "\n",
    "### Example:\n",
    "- **Input:**  \n",
    "  `array([1, 2, 3, 3, 4, 3])`\n",
    "  \n",
    "- **Output:**  \n",
    "  `3`"
   ]
  },
  {
   "cell_type": "code",
   "execution_count": 78,
   "metadata": {},
   "outputs": [
    {
     "name": "stdout",
     "output_type": "stream",
     "text": [
      "3\n"
     ]
    }
   ],
   "source": [
    "# Write your code here\n",
    "a=np.array([1, 2, 3, 3, 4, 3])\n",
    "print(np.count_nonzero(a==3))"
   ]
  },
  {
   "cell_type": "code",
   "execution_count": null,
   "metadata": {},
   "outputs": [],
   "source": []
  }
 ],
 "metadata": {
  "colab": {
   "provenance": []
  },
  "kernelspec": {
   "display_name": "Python 3 (ipykernel)",
   "language": "python",
   "name": "python3"
  },
  "language_info": {
   "codemirror_mode": {
    "name": "ipython",
    "version": 3
   },
   "file_extension": ".py",
   "mimetype": "text/x-python",
   "name": "python",
   "nbconvert_exporter": "python",
   "pygments_lexer": "ipython3",
   "version": "3.13.5"
  }
 },
 "nbformat": 4,
 "nbformat_minor": 4
}
