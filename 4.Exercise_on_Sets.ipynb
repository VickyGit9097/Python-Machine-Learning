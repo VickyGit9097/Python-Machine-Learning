{
 "cells": [
  {
   "cell_type": "markdown",
   "metadata": {
    "id": "bWICTVd_RMFr"
   },
   "source": [
    "# Exercise on Sets"
   ]
  },
  {
   "cell_type": "markdown",
   "metadata": {
    "id": "G1RkVkDWRMFv"
   },
   "source": [
    "###  Sets"
   ]
  },
  {
   "cell_type": "markdown",
   "metadata": {
    "id": "CG6zseMHRMFv"
   },
   "source": [
    "\n",
    "\n",
    "**`Question:`** Create a set called \"s\" containing the following elements:\n",
    "\n",
    "3, 4, 'data', 'science'\n",
    "\n",
    "\n"
   ]
  },
  {
   "cell_type": "code",
   "execution_count": 18,
   "metadata": {
    "id": "fOtAA0j5RMFw"
   },
   "outputs": [
    {
     "data": {
      "text/plain": [
       "{3, 4, 'data', 'science'}"
      ]
     },
     "execution_count": 18,
     "metadata": {},
     "output_type": "execute_result"
    }
   ],
   "source": [
    "# CODE HERE\n",
    "s={3,4,'data','science'}\n",
    "s"
   ]
  },
  {
   "cell_type": "markdown",
   "metadata": {
    "id": "j5ja-7FERMFz"
   },
   "source": [
    "**`Question:`** Add the element 'MachineLearning' to the set \"s\".\n"
   ]
  },
  {
   "cell_type": "code",
   "execution_count": 3,
   "metadata": {
    "id": "bc64MjKoRMFz"
   },
   "outputs": [],
   "source": [
    "# CODE HERE\n"
   ]
  },
  {
   "cell_type": "code",
   "execution_count": 19,
   "metadata": {
    "id": "FDpykUdPRMF0"
   },
   "outputs": [
    {
     "data": {
      "text/plain": [
       "{3, 4, 'MachineLearning', 'data', 'science'}"
      ]
     },
     "execution_count": 19,
     "metadata": {},
     "output_type": "execute_result"
    }
   ],
   "source": [
    "s.add('MachineLearning')\n",
    "s"
   ]
  },
  {
   "cell_type": "markdown",
   "metadata": {
    "id": "aGUxrgx8RMF1"
   },
   "source": [
    "**`Question:`** Create another set called \"sc\" with the following elements:\n",
    "\n",
    "3, 4, 'data', 'MachineLearning'\n"
   ]
  },
  {
   "cell_type": "code",
   "execution_count": 4,
   "metadata": {
    "id": "WzZOzQxkRMF1"
   },
   "outputs": [],
   "source": [
    "# CODE HERE\n"
   ]
  },
  {
   "cell_type": "code",
   "execution_count": 20,
   "metadata": {
    "id": "8dcXfAQ8RMF2"
   },
   "outputs": [
    {
     "data": {
      "text/plain": [
       "{3, 4, 'MachineLearning', 'data'}"
      ]
     },
     "execution_count": 20,
     "metadata": {},
     "output_type": "execute_result"
    }
   ],
   "source": [
    "sc={3,4,'data','MachineLearning'}\n",
    "sc"
   ]
  },
  {
   "cell_type": "markdown",
   "metadata": {
    "id": "9be9f6k6RMF3"
   },
   "source": [
    "**`Question:`** Find the difference between the two sets \"s\" and \"sc\".\n",
    "\n",
    "`s - sc`\n"
   ]
  },
  {
   "cell_type": "code",
   "execution_count": 5,
   "metadata": {
    "id": "a_QnUeW5RMF3"
   },
   "outputs": [],
   "source": [
    "# CODE HERE"
   ]
  },
  {
   "cell_type": "code",
   "execution_count": 21,
   "metadata": {
    "id": "7wU-v8yLRMF4"
   },
   "outputs": [
    {
     "data": {
      "text/plain": [
       "{'science'}"
      ]
     },
     "execution_count": 21,
     "metadata": {},
     "output_type": "execute_result"
    }
   ],
   "source": [
    "set=s.difference(sc)\n",
    "set"
   ]
  },
  {
   "cell_type": "markdown",
   "metadata": {
    "id": "C8VPyImxRMF4"
   },
   "source": [
    "> **`Question:` remove 2 from set s**"
   ]
  },
  {
   "cell_type": "code",
   "execution_count": 6,
   "metadata": {
    "id": "Xs3ClkyURMF5"
   },
   "outputs": [],
   "source": [
    "# CODE HERE\n"
   ]
  },
  {
   "cell_type": "code",
   "execution_count": 22,
   "metadata": {
    "id": "g_6QuuSyRMF5"
   },
   "outputs": [
    {
     "ename": "KeyError",
     "evalue": "2",
     "output_type": "error",
     "traceback": [
      "\u001b[1;31m---------------------------------------------------------------------------\u001b[0m",
      "\u001b[1;31mKeyError\u001b[0m                                  Traceback (most recent call last)",
      "Cell \u001b[1;32mIn[22], line 1\u001b[0m\n\u001b[1;32m----> 1\u001b[0m s\u001b[38;5;241m.\u001b[39mremove(\u001b[38;5;241m2\u001b[39m)   \u001b[38;5;66;03m# Their is no 2 in s set\u001b[39;00m\n\u001b[0;32m      2\u001b[0m s\n",
      "\u001b[1;31mKeyError\u001b[0m: 2"
     ]
    }
   ],
   "source": [
    "s.remove(2)   # Their is no 2 in s set\n",
    "s"
   ]
  },
  {
   "cell_type": "markdown",
   "metadata": {
    "id": "pMwK1T3pRMF5"
   },
   "source": [
    "> **`Question:`Print common element in two sets s and sc**\n",
    "\n",
    "s intersection sc"
   ]
  },
  {
   "cell_type": "code",
   "execution_count": 7,
   "metadata": {
    "id": "sZ6H3rd8RMF6"
   },
   "outputs": [],
   "source": [
    "# CODE HERE\n"
   ]
  },
  {
   "cell_type": "code",
   "execution_count": 23,
   "metadata": {
    "id": "MseeqbSJRMF6"
   },
   "outputs": [
    {
     "name": "stdout",
     "output_type": "stream",
     "text": [
      "{3, 'MachineLearning', 4, 'data'}\n"
     ]
    }
   ],
   "source": [
    "print(s&sc)"
   ]
  },
  {
   "cell_type": "markdown",
   "metadata": {
    "id": "l0KudeFkRMF6"
   },
   "source": [
    "> **`Question:`Print all element in two sets**\n",
    "\n",
    "s union sc"
   ]
  },
  {
   "cell_type": "code",
   "execution_count": 8,
   "metadata": {
    "id": "2zyKSdOrRMF6"
   },
   "outputs": [],
   "source": [
    "# CODE HERE\n"
   ]
  },
  {
   "cell_type": "code",
   "execution_count": 26,
   "metadata": {
    "id": "JjOJN9k4RMF7"
   },
   "outputs": [
    {
     "name": "stdout",
     "output_type": "stream",
     "text": [
      "{3, 4, 'data', 'MachineLearning', 'science'}\n"
     ]
    }
   ],
   "source": [
    "print(s.union(sc))"
   ]
  },
  {
   "cell_type": "markdown",
   "metadata": {
    "id": "RBgceHl-RMF7"
   },
   "source": [
    "**`Question:`** Add a list of elements to a set  \n",
    "- `vegetables = {\"carrot\", \"potato\", \"tomato\"}`  \n",
    "- `more_vegetables = ['onion', 'broccoli', 'spinach']`\n"
   ]
  },
  {
   "cell_type": "code",
   "execution_count": 9,
   "metadata": {
    "id": "UzOJMUatRMF7"
   },
   "outputs": [],
   "source": [
    "# CODE HERE"
   ]
  },
  {
   "cell_type": "code",
   "execution_count": 55,
   "metadata": {
    "id": "LNXcn5uCRMF8"
   },
   "outputs": [
    {
     "name": "stdout",
     "output_type": "stream",
     "text": [
      "{'potato', 'spinach', 'carrot', 'tomato', 'broccoli', 'onion'}\n"
     ]
    }
   ],
   "source": [
    "vegetables = {\"carrot\",\"potato\",\"tomato\"}\n",
    "more_vegetables = ['onion','broccoli','spinach']\n",
    "\n",
    "combined_set=vegetables.union(more_vegetables)\n",
    "print(combined_set)\n",
    "\n",
    "\n"
   ]
  },
  {
   "cell_type": "markdown",
   "metadata": {
    "id": "hzB8JFHtRMF8"
   },
   "source": [
    "**`Question:`Remove items 10, 20, 30 from the following set at once**\n",
    "- set1 = {10, 20, 30, 40, 50}"
   ]
  },
  {
   "cell_type": "code",
   "execution_count": 10,
   "metadata": {
    "id": "FBMTJPfVRMF8"
   },
   "outputs": [],
   "source": [
    "# CODE HERE\n"
   ]
  },
  {
   "cell_type": "code",
   "execution_count": 43,
   "metadata": {
    "id": "Gj535zgyRMF9"
   },
   "outputs": [
    {
     "data": {
      "text/plain": [
       "{40, 50}"
      ]
     },
     "execution_count": 43,
     "metadata": {},
     "output_type": "execute_result"
    }
   ],
   "source": [
    "set1={10,20,30,40,50}\n",
    "set1.difference_update({10,20,30})\n",
    "set1"
   ]
  },
  {
   "cell_type": "code",
   "execution_count": null,
   "metadata": {},
   "outputs": [],
   "source": []
  }
 ],
 "metadata": {
  "colab": {
   "provenance": []
  },
  "kernelspec": {
   "display_name": "Python 3 (ipykernel)",
   "language": "python",
   "name": "python3"
  },
  "language_info": {
   "codemirror_mode": {
    "name": "ipython",
    "version": 3
   },
   "file_extension": ".py",
   "mimetype": "text/x-python",
   "name": "python",
   "nbconvert_exporter": "python",
   "pygments_lexer": "ipython3",
   "version": "3.13.5"
  }
 },
 "nbformat": 4,
 "nbformat_minor": 4
}
