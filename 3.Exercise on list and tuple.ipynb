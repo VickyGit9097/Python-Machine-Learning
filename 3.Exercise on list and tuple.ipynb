{
 "cells": [
  {
   "cell_type": "markdown",
   "metadata": {
    "id": "CYhyEEltNiaN"
   },
   "source": [
    "# Exercise on List and Tuple"
   ]
  },
  {
   "cell_type": "markdown",
   "metadata": {
    "id": "ipb7u_0hNiaR"
   },
   "source": [
    "###  LIST"
   ]
  },
  {
   "cell_type": "markdown",
   "metadata": {
    "id": "duH76CsBNiaS"
   },
   "source": [
    "`Question:`:Create a list of numbers\n",
    "> nums = [1,2,3,4,5,6,7,8,9,10]"
   ]
  },
  {
   "cell_type": "code",
   "execution_count": 1,
   "metadata": {
    "id": "F4yQoFqLNtG7"
   },
   "outputs": [
    {
     "name": "stdout",
     "output_type": "stream",
     "text": [
      "[1, 2, 3, 4, 5, 6, 7, 8, 9, 10]\n"
     ]
    }
   ],
   "source": [
    "#Write your code here\n",
    "nums=[1,2,3,4,5,6,7,8,9,10]\n",
    "print(nums)"
   ]
  },
  {
   "cell_type": "markdown",
   "metadata": {
    "id": "SEqXoFdsNiaW"
   },
   "source": [
    "**`Question:`** Remove number \"3\" in a list**"
   ]
  },
  {
   "cell_type": "code",
   "execution_count": 3,
   "metadata": {
    "id": "tpJyLOaFNiaX"
   },
   "outputs": [
    {
     "name": "stdout",
     "output_type": "stream",
     "text": [
      "[1, 2, 4, 5, 6, 7, 8, 9, 10]\n"
     ]
    }
   ],
   "source": [
    "#Write your code here\n",
    "nums=[1,2,3,4,5,6,7,8,9,10]\n",
    "nums.remove(3)\n",
    "print(nums)"
   ]
  },
  {
   "cell_type": "markdown",
   "metadata": {
    "id": "WklAz5Q-Niaa"
   },
   "source": [
    "**`Question:` :Insert number \"1\" in 0th position**\n",
    "- lst = [2,3,4]"
   ]
  },
  {
   "cell_type": "code",
   "execution_count": 14,
   "metadata": {
    "id": "LmxCd5wVNiaa"
   },
   "outputs": [
    {
     "name": "stdout",
     "output_type": "stream",
     "text": [
      "[1, 2, 3, 4]\n"
     ]
    }
   ],
   "source": [
    "#Write your code here\n",
    "lst=[2,3,4]\n",
    "lst.insert(0,1)\n",
    "print(lst)"
   ]
  },
  {
   "cell_type": "markdown",
   "metadata": {
    "id": "dAGpPZTxNiab"
   },
   "source": [
    "**`Question:` Insert \"two-and-half\" in 2nd position**"
   ]
  },
  {
   "cell_type": "code",
   "execution_count": 15,
   "metadata": {
    "id": "Sz3b34hUNiac"
   },
   "outputs": [
    {
     "name": "stdout",
     "output_type": "stream",
     "text": [
      "[1, 2, 'two-and-half', 3, 4]\n"
     ]
    }
   ],
   "source": [
    "#Write your code here\n",
    "lst.insert(2,\"two-and-half\")\n",
    "print(lst)"
   ]
  },
  {
   "cell_type": "markdown",
   "metadata": {
    "id": "t60OgyW4Niac"
   },
   "source": [
    "**`Question:` phrase = \"Don't panic!\"**\n",
    "- **Convert above text into list**"
   ]
  },
  {
   "cell_type": "code",
   "execution_count": 16,
   "metadata": {
    "id": "pwmUMkhcNiad"
   },
   "outputs": [
    {
     "name": "stdout",
     "output_type": "stream",
     "text": [
      "['D', 'o', 'n', \"'\", 't', ' ', 'p', 'a', 'n', 'i', 'c', '!']\n"
     ]
    }
   ],
   "source": [
    "#Write your code here\n",
    "phrase =\"Don't panic!\"\n",
    "phrase_list=list(phrase)\n",
    "print(phrase_list)"
   ]
  },
  {
   "cell_type": "markdown",
   "metadata": {
    "id": "CbqxqsHkNiad"
   },
   "source": [
    "*convert into list*"
   ]
  },
  {
   "cell_type": "markdown",
   "metadata": {
    "id": "_T5xpdtUNiae"
   },
   "source": [
    "`Question:` Remove ** '** and **!** in the list"
   ]
  },
  {
   "cell_type": "code",
   "execution_count": 17,
   "metadata": {
    "id": "YItUImXxNiae"
   },
   "outputs": [
    {
     "name": "stdout",
     "output_type": "stream",
     "text": [
      "['D', 'o', 'n', 't', ' ', 'p', 'a', 'n', 'i', 'c']\n"
     ]
    }
   ],
   "source": [
    "#Write your code here\n",
    "phrase_list.remove(\"'\")\n",
    "phrase_list.remove(\"!\")\n",
    "print(phrase_list)"
   ]
  },
  {
   "cell_type": "markdown",
   "metadata": {
    "id": "2Wkucr-nNiag"
   },
   "source": [
    "**`Question:` Join the given list `['p', 'a', 'n', 'D', 'a']`**"
   ]
  },
  {
   "cell_type": "code",
   "execution_count": 21,
   "metadata": {
    "id": "OGDBzcj2Niag"
   },
   "outputs": [
    {
     "name": "stdout",
     "output_type": "stream",
     "text": [
      "panDa\n"
     ]
    }
   ],
   "source": [
    "#Write your code here\n",
    "a=['p', 'a', 'n', 'D', 'a']\n",
    "b=\"\".join(a)\n",
    "print(b)"
   ]
  },
  {
   "cell_type": "markdown",
   "metadata": {
    "id": "sRLdjczoNiai"
   },
   "source": [
    "###  Tuples"
   ]
  },
  {
   "cell_type": "markdown",
   "metadata": {
    "id": "D_vX_xhiNiai"
   },
   "source": [
    "**`Question:` Create a tuples for numbers 10,20,30,40,55,50 as nums**"
   ]
  },
  {
   "cell_type": "code",
   "execution_count": 23,
   "metadata": {
    "id": "IidHbDDiNiai"
   },
   "outputs": [
    {
     "name": "stdout",
     "output_type": "stream",
     "text": [
      "(10, 20, 30, 40, 55, 50)\n"
     ]
    },
    {
     "data": {
      "text/plain": [
       "tuple"
      ]
     },
     "execution_count": 23,
     "metadata": {},
     "output_type": "execute_result"
    }
   ],
   "source": [
    "#Write your code here\n",
    "nums=10,20,30,40,55,50\n",
    "print(nums)\n",
    "type(nums)"
   ]
  },
  {
   "cell_type": "markdown",
   "metadata": {
    "id": "wfDGOvm5Niaj"
   },
   "source": [
    "**`Question:` Remove number \"55\" in a tuple**\n",
    "\n",
    "*Hint:* Convert into list"
   ]
  },
  {
   "cell_type": "code",
   "execution_count": 31,
   "metadata": {
    "id": "MrwxuL3cNiaj"
   },
   "outputs": [
    {
     "name": "stdout",
     "output_type": "stream",
     "text": [
      "(10, 20, 30, 40, 50)\n"
     ]
    }
   ],
   "source": [
    "#Write your code here\n",
    "nums=10,20,30,40,55,50\n",
    "lst=list(nums)\n",
    "lst.remove(55)\n",
    "nums_update=tuple(lst)\n",
    "print(nums_update)"
   ]
  },
  {
   "cell_type": "markdown",
   "metadata": {},
   "source": [
    "`Question:` Write a Python program to count the occurrences of a specific element in a tuple.\n",
    "\n",
    "`Example:` tup = (1, 2, 3, 4, 2, 2, 5)"
   ]
  },
  {
   "cell_type": "code",
   "execution_count": 32,
   "metadata": {},
   "outputs": [
    {
     "name": "stdout",
     "output_type": "stream",
     "text": [
      "3\n"
     ]
    }
   ],
   "source": [
    "#Write your code here\n",
    "tup=(1, 2, 3, 4, 2, 2, 5)\n",
    "tup_count=tup.count(2)\n",
    "print(tup_count)"
   ]
  },
  {
   "cell_type": "markdown",
   "metadata": {},
   "source": [
    "`Question:` Write a Python program to find the index of the first occurrence of an element in a tuple.\n",
    "\n",
    "`Example:` tup = (10, 20, 30, 40, 50)"
   ]
  },
  {
   "cell_type": "code",
   "execution_count": 33,
   "metadata": {},
   "outputs": [
    {
     "name": "stdout",
     "output_type": "stream",
     "text": [
      "1\n"
     ]
    }
   ],
   "source": [
    "#Write your code here\n",
    "tup=(10, 20, 30, 40, 50)\n",
    "tp=tup.index(20)\n",
    "print(tp)"
   ]
  },
  {
   "cell_type": "markdown",
   "metadata": {},
   "source": [
    "`Question:` Write a Python program to concatenate two tuples into a new tuple.\n",
    "\n",
    "`Example:` tup1 = (1, 2, 3) and tup2 = (4, 5, 6)"
   ]
  },
  {
   "cell_type": "code",
   "execution_count": 34,
   "metadata": {},
   "outputs": [
    {
     "name": "stdout",
     "output_type": "stream",
     "text": [
      "(1, 2, 3, 4, 5, 6)\n"
     ]
    }
   ],
   "source": [
    "#Write your code here\n",
    "tup1=(1, 2, 3)\n",
    "tup2=(4, 5, 6)\n",
    "print(tup1+tup2)"
   ]
  },
  {
   "cell_type": "markdown",
   "metadata": {},
   "source": [
    "`Question:` Write a Python program to repeat a tuple three times to create a new tuple.\n",
    "\n",
    "`Example:` tup = (1, 2)"
   ]
  },
  {
   "cell_type": "code",
   "execution_count": 35,
   "metadata": {},
   "outputs": [
    {
     "name": "stdout",
     "output_type": "stream",
     "text": [
      "(1, 2, 1, 2, 1, 2)\n"
     ]
    }
   ],
   "source": [
    "#Write your code here\n",
    "tup=(1,2)\n",
    "tup_new=tup*3\n",
    "print(tup_new)"
   ]
  },
  {
   "cell_type": "markdown",
   "metadata": {},
   "source": [
    "\n",
    "\n",
    "`Question:` Write a Python program to slice a tuple to get a specific portion of it.\n",
    "\n",
    "`Example:` tup = (10, 20, 30, 40, 50)\n",
    "\n",
    "`Output:` (20, 30, 40)\n"
   ]
  },
  {
   "cell_type": "code",
   "execution_count": 44,
   "metadata": {},
   "outputs": [
    {
     "name": "stdout",
     "output_type": "stream",
     "text": [
      "(20, 30, 40)\n"
     ]
    }
   ],
   "source": [
    "#Write your code here\n",
    "tup=(10,20,30,40,50)\n",
    "tup_new=tup[1:4]\n",
    "print(tup_new)"
   ]
  },
  {
   "cell_type": "code",
   "execution_count": null,
   "metadata": {},
   "outputs": [],
   "source": []
  }
 ],
 "metadata": {
  "colab": {
   "provenance": []
  },
  "kernelspec": {
   "display_name": "Python 3 (ipykernel)",
   "language": "python",
   "name": "python3"
  },
  "language_info": {
   "codemirror_mode": {
    "name": "ipython",
    "version": 3
   },
   "file_extension": ".py",
   "mimetype": "text/x-python",
   "name": "python",
   "nbconvert_exporter": "python",
   "pygments_lexer": "ipython3",
   "version": "3.13.5"
  }
 },
 "nbformat": 4,
 "nbformat_minor": 4
}
